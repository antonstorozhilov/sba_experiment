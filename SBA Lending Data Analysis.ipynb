{
 "cells": [
  {
   "cell_type": "markdown",
   "metadata": {},
   "source": [
    "# Overview"
   ]
  },
  {
   "cell_type": "markdown",
   "metadata": {},
   "source": [
    "#### Objective: Develop target list of companies to explore further. \n",
    "###### Traingulating:\n",
    "- Growth\n",
    "- Age\n",
    "- Business health"
   ]
  },
  {
   "cell_type": "markdown",
   "metadata": {},
   "source": [
    "### Config"
   ]
  },
  {
   "cell_type": "code",
   "execution_count": 1,
   "metadata": {},
   "outputs": [],
   "source": [
    "import pandas as pd\n",
    "import numpy as np"
   ]
  },
  {
   "cell_type": "code",
   "execution_count": 2,
   "metadata": {},
   "outputs": [
    {
     "data": {
      "text/html": [
       "<style>.container { width:100% !important; }</style>"
      ],
      "text/plain": [
       "<IPython.core.display.HTML object>"
      ]
     },
     "metadata": {},
     "output_type": "display_data"
    }
   ],
   "source": [
    "pd.set_option('display.max_columns', None)  \n",
    "pd.set_option('display.max_colwidth', 400)\n",
    "pd.set_option('display.float_format', lambda x: '%.4f' % x)\n",
    "pd.options.display.float_format = '{:,}'.format\n",
    "from IPython.core.display import display, HTML\n",
    "display(HTML(\"<style>.container { width:100% !important; }</style>\"))\n"
   ]
  },
  {
   "cell_type": "markdown",
   "metadata": {},
   "source": [
    "# SBA Lending Data"
   ]
  },
  {
   "cell_type": "markdown",
   "metadata": {},
   "source": [
    "### Loading Data"
   ]
  },
  {
   "cell_type": "code",
   "execution_count": 3,
   "metadata": {},
   "outputs": [],
   "source": [
    "# lending_data_504 = pd.read_csv(\"data/FOIA - 504 (FY1991-Present).csv\", encoding = \"ISO-8859-1\")"
   ]
  },
  {
   "cell_type": "code",
   "execution_count": 4,
   "metadata": {},
   "outputs": [
    {
     "name": "stderr",
     "output_type": "stream",
     "text": [
      "/opt/conda/lib/python3.7/site-packages/IPython/core/interactiveshell.py:3063: DtypeWarning: Columns (11) have mixed types.Specify dtype option on import or set low_memory=False.\n",
      "  interactivity=interactivity, compiler=compiler, result=result)\n"
     ]
    }
   ],
   "source": [
    "lending_data_7a_91t99 = pd.read_csv(\"data/FOIA - 7(a)(FY1991-FY1999).csv\")"
   ]
  },
  {
   "cell_type": "code",
   "execution_count": null,
   "metadata": {},
   "outputs": [],
   "source": [
    "lending_data_7a_00t09 = pd.read_csv(\"data/FOIA - 7(a)(FY2000-FY2009).csv\", encoding=\"ISO-8859-1\")"
   ]
  },
  {
   "cell_type": "code",
   "execution_count": null,
   "metadata": {},
   "outputs": [],
   "source": [
    "lending_data_7a_10tPR = pd.read_csv(\"data/FOIA - 7(a)(FY2010-Present).csv\")"
   ]
  },
  {
   "cell_type": "code",
   "execution_count": null,
   "metadata": {},
   "outputs": [],
   "source": [
    "dict_7a = pd.read_csv(\"data/7a_FOIA_Data_Dictionary.csv\")"
   ]
  },
  {
   "cell_type": "code",
   "execution_count": null,
   "metadata": {},
   "outputs": [],
   "source": [
    "naics_codes = pd.read_csv(\"data/naics-codes.csv\", header=None)"
   ]
  },
  {
   "cell_type": "markdown",
   "metadata": {},
   "source": [
    "### Preprocess"
   ]
  },
  {
   "cell_type": "code",
   "execution_count": null,
   "metadata": {},
   "outputs": [],
   "source": [
    "lending_data_7a_91t99.drop(['AsOfDate', 'Program'], axis=1, inplace=True)\n",
    "lending_data_7a_00t09.drop(['AsOfDate', 'Program'], axis=1, inplace=True)\n",
    "lending_data_7a_10tPR.drop(['AsOfDate', 'Program'], axis=1, inplace=True)"
   ]
  },
  {
   "cell_type": "code",
   "execution_count": null,
   "metadata": {},
   "outputs": [],
   "source": [
    "dict_7a.columns = ['Field_Name', \"Definition\"]"
   ]
  },
  {
   "cell_type": "code",
   "execution_count": null,
   "metadata": {},
   "outputs": [],
   "source": [
    "naics_codes.columns = ['code', 'desc']"
   ]
  },
  {
   "cell_type": "code",
   "execution_count": null,
   "metadata": {},
   "outputs": [],
   "source": [
    "lending_data_7a_91t99 = pd.merge(lending_data_7a_91t99, naics_codes, left_on=\"NaicsCode\", right_on='code')\n",
    "lending_data_7a_00t09 = pd.merge(lending_data_7a_00t09, naics_codes, left_on=\"NaicsCode\", right_on='code')\n",
    "lending_data_7a_10tPR = pd.merge(lending_data_7a_10tPR, naics_codes, left_on=\"NaicsCode\", right_on='code')"
   ]
  },
  {
   "cell_type": "code",
   "execution_count": null,
   "metadata": {},
   "outputs": [],
   "source": [
    "lending_data_7a_91t99['group'] = '1991-1999'\n",
    "lending_data_7a_00t09['group'] = '2000-2009'\n",
    "lending_data_7a_10tPR['group'] = '2010-2020'"
   ]
  },
  {
   "cell_type": "code",
   "execution_count": null,
   "metadata": {},
   "outputs": [],
   "source": [
    "lend_df = pd.concat([lending_data_7a_91t99,lending_data_7a_00t09,lending_data_7a_10tPR])"
   ]
  },
  {
   "cell_type": "code",
   "execution_count": 150,
   "metadata": {},
   "outputs": [],
   "source": [
    "lend_df.to_csv(\"lending_data_7a_1991-2020.csv\")"
   ]
  },
  {
   "cell_type": "code",
   "execution_count": null,
   "metadata": {},
   "outputs": [],
   "source": [
    "lend_df"
   ]
  },
  {
   "cell_type": "markdown",
   "metadata": {},
   "source": [
    "## Data Dictionary"
   ]
  },
  {
   "cell_type": "code",
   "execution_count": 1,
   "metadata": {},
   "outputs": [
    {
     "ename": "NameError",
     "evalue": "name 'dict_7a' is not defined",
     "output_type": "error",
     "traceback": [
      "\u001b[0;31m---------------------------------------------------------------------------\u001b[0m",
      "\u001b[0;31mNameError\u001b[0m                                 Traceback (most recent call last)",
      "\u001b[0;32m<ipython-input-1-79f3d59026f5>\u001b[0m in \u001b[0;36m<module>\u001b[0;34m\u001b[0m\n\u001b[0;32m----> 1\u001b[0;31m \u001b[0mdict_7a\u001b[0m\u001b[0;34m\u001b[0m\u001b[0;34m\u001b[0m\u001b[0m\n\u001b[0m",
      "\u001b[0;31mNameError\u001b[0m: name 'dict_7a' is not defined"
     ]
    }
   ],
   "source": [
    "dict_7a"
   ]
  },
  {
   "cell_type": "markdown",
   "metadata": {},
   "source": [
    "### Experiment"
   ]
  },
  {
   "cell_type": "markdown",
   "metadata": {},
   "source": [
    "# 1. Filtering companies using location, lending amts, headcount, etc."
   ]
  },
  {
   "cell_type": "code",
   "execution_count": null,
   "metadata": {},
   "outputs": [],
   "source": [
    "lend_df.reset_index()"
   ]
  },
  {
   "cell_type": "markdown",
   "metadata": {},
   "source": [
    "# 2. How do interest rates, volume, etc. differ by groupings"
   ]
  },
  {
   "cell_type": "code",
   "execution_count": 151,
   "metadata": {},
   "outputs": [
    {
     "data": {
      "text/plain": [
       "Index(['BorrName', 'BorrStreet', 'BorrCity', 'BorrState', 'BorrZip',\n",
       "       'BankName', 'BankStreet', 'BankCity', 'BankState', 'BankZip',\n",
       "       'GrossApproval', 'SBAGuaranteedApproval', 'ApprovalDate',\n",
       "       'ApprovalFiscalYear', 'FirstDisbursementDate', 'DeliveryMethod',\n",
       "       'subpgmdesc', 'InitialInterestRate', 'TermInMonths', 'NaicsCode',\n",
       "       'NaicsDescription', 'FranchiseCode', 'FranchiseName', 'ProjectCounty',\n",
       "       'ProjectState', 'SBADistrictOffice', 'CongressionalDistrict',\n",
       "       'BusinessType', 'LoanStatus', 'PaidInFullDate', 'ChargeOffDate',\n",
       "       'GrossChargeOffAmount', 'RevolverStatus', 'JobsSupported', 'code',\n",
       "       'desc', 'group'],\n",
       "      dtype='object')"
      ]
     },
     "execution_count": 151,
     "metadata": {},
     "output_type": "execute_result"
    }
   ],
   "source": [
    "lend_df.columns"
   ]
  },
  {
   "cell_type": "code",
   "execution_count": null,
   "metadata": {},
   "outputs": [],
   "source": []
  },
  {
   "cell_type": "markdown",
   "metadata": {},
   "source": [
    "# 3. How to determine if company is still alive"
   ]
  },
  {
   "cell_type": "code",
   "execution_count": null,
   "metadata": {},
   "outputs": [],
   "source": []
  }
 ],
 "metadata": {
  "kernelspec": {
   "display_name": "Python 3",
   "language": "python",
   "name": "python3"
  },
  "language_info": {
   "codemirror_mode": {
    "name": "ipython",
    "version": 3
   },
   "file_extension": ".py",
   "mimetype": "text/x-python",
   "name": "python",
   "nbconvert_exporter": "python",
   "pygments_lexer": "ipython3",
   "version": "3.7.6"
  },
  "widgets": {
   "application/vnd.jupyter.widget-state+json": {
    "state": {},
    "version_major": 2,
    "version_minor": 0
   }
  }
 },
 "nbformat": 4,
 "nbformat_minor": 4
}
