{
 "cells": [
  {
   "cell_type": "markdown",
   "metadata": {},
   "source": [
    "# Overview"
   ]
  },
  {
   "cell_type": "markdown",
   "metadata": {},
   "source": [
    "#### Objective: Develop target list of companies to explore further. \n",
    "###### Traingulating:\n",
    "- Growth\n",
    "- Age\n",
    "- Business health"
   ]
  },
  {
   "cell_type": "markdown",
   "metadata": {},
   "source": [
    "### Config"
   ]
  },
  {
   "cell_type": "code",
   "execution_count": 1,
   "metadata": {},
   "outputs": [],
   "source": [
    "import pandas as pd\n",
    "import numpy as np"
   ]
  },
  {
   "cell_type": "code",
   "execution_count": 2,
   "metadata": {},
   "outputs": [
    {
     "data": {
      "text/html": [
       "<style>.container { width:100% !important; }</style>"
      ],
      "text/plain": [
       "<IPython.core.display.HTML object>"
      ]
     },
     "metadata": {},
     "output_type": "display_data"
    }
   ],
   "source": [
    "pd.set_option('display.max_columns', None)  \n",
    "pd.set_option('display.max_colwidth', 400)\n",
    "pd.set_option('display.float_format', lambda x: '%.4f' % x)\n",
    "pd.options.display.float_format = '{:,}'.format\n",
    "from IPython.core.display import display, HTML\n",
    "display(HTML(\"<style>.container { width:100% !important; }</style>\"))\n"
   ]
  },
  {
   "cell_type": "markdown",
   "metadata": {},
   "source": [
    "# SBA Lending Data"
   ]
  },
  {
   "cell_type": "markdown",
   "metadata": {},
   "source": [
    "### Loading Data"
   ]
  },
  {
   "cell_type": "code",
   "execution_count": null,
   "metadata": {},
   "outputs": [],
   "source": [
    "# lending_data_504 = pd.read_csv(\"data/FOIA - 504 (FY1991-Present).csv\", encoding = \"ISO-8859-1\")"
   ]
  },
  {
   "cell_type": "code",
   "execution_count": null,
   "metadata": {},
   "outputs": [],
   "source": [
    "lending_data_7a_91t99 = pd.read_csv(\"data/FOIA - 7(a)(FY1991-FY1999).csv\")"
   ]
  },
  {
   "cell_type": "code",
   "execution_count": null,
   "metadata": {},
   "outputs": [],
   "source": [
    "lending_data_7a_00t09 = pd.read_csv(\"data/FOIA - 7(a)(FY2000-FY2009).csv\", encoding=\"ISO-8859-1\")"
   ]
  },
  {
   "cell_type": "code",
   "execution_count": null,
   "metadata": {},
   "outputs": [],
   "source": [
    "lending_data_7a_10tPR = pd.read_csv(\"data/FOIA - 7(a)(FY2010-Present).csv\")"
   ]
  },
  {
   "cell_type": "code",
   "execution_count": 68,
   "metadata": {},
   "outputs": [],
   "source": [
    "dict_7a = pd.read_csv(\"data/7a_FOIA_Data_Dictionary.csv\")"
   ]
  },
  {
   "cell_type": "code",
   "execution_count": null,
   "metadata": {},
   "outputs": [],
   "source": [
    "naics_codes = pd.read_csv(\"data/naics-codes.csv\", header=None)"
   ]
  },
  {
   "cell_type": "markdown",
   "metadata": {},
   "source": [
    "### Cleanup"
   ]
  },
  {
   "cell_type": "code",
   "execution_count": null,
   "metadata": {},
   "outputs": [],
   "source": [
    "lending_data_7a_91t99.drop(['AsOfDate', 'Program'], axis=1, inplace=True)\n",
    "lending_data_7a_00t09.drop(['AsOfDate', 'Program'], axis=1, inplace=True)\n",
    "lending_data_7a_10tPR.drop(['AsOfDate', 'Program'], axis=1, inplace=True)"
   ]
  },
  {
   "cell_type": "code",
   "execution_count": null,
   "metadata": {},
   "outputs": [],
   "source": [
    "dict_7a.columns = ['Field_Name', \"Definition\"]"
   ]
  },
  {
   "cell_type": "code",
   "execution_count": null,
   "metadata": {},
   "outputs": [],
   "source": [
    "naics_codes.columns = ['code', 'desc']"
   ]
  },
  {
   "cell_type": "code",
   "execution_count": null,
   "metadata": {},
   "outputs": [],
   "source": [
    "lending_data_7a_91t99 = pd.merge(lending_data_7a_91t99, naics_codes, left_on=\"NaicsCode\", right_on='code')\n",
    "lending_data_7a_00t09 = pd.merge(lending_data_7a_00t09, naics_codes, left_on=\"NaicsCode\", right_on='code')\n",
    "lending_data_7a_10tPR = pd.merge(lending_data_7a_10tPR, naics_codes, left_on=\"NaicsCode\", right_on='code')"
   ]
  },
  {
   "cell_type": "code",
   "execution_count": null,
   "metadata": {},
   "outputs": [],
   "source": [
    "lending_data_7a_91t99['group'] = '1991-1999'\n",
    "lending_data_7a_00t09['group'] = '2000-2009'\n",
    "lending_data_7a_10tPR['group'] = '2010-2020'"
   ]
  },
  {
   "cell_type": "code",
   "execution_count": null,
   "metadata": {},
   "outputs": [],
   "source": [
    "lend_df = pd.concat([lending_data_7a_91t99,lending_data_7a_00t09,lending_data_7a_10tPR])"
   ]
  },
  {
   "cell_type": "code",
   "execution_count": null,
   "metadata": {},
   "outputs": [],
   "source": [
    "lend_df = lend_df.reset_index(drop=True)"
   ]
  },
  {
   "cell_type": "code",
   "execution_count": null,
   "metadata": {},
   "outputs": [],
   "source": [
    "lend_df.to_csv(\"data/lending_data_7a_1991-2020.csv\")"
   ]
  },
  {
   "cell_type": "markdown",
   "metadata": {},
   "source": [
    "## Load clean"
   ]
  },
  {
   "cell_type": "code",
   "execution_count": 3,
   "metadata": {},
   "outputs": [],
   "source": [
    "pd.set_option('display.max_rows', 40)"
   ]
  },
  {
   "cell_type": "code",
   "execution_count": 4,
   "metadata": {
    "scrolled": true
   },
   "outputs": [
    {
     "name": "stderr",
     "output_type": "stream",
     "text": [
      "/opt/conda/lib/python3.7/site-packages/IPython/core/interactiveshell.py:3063: DtypeWarning: Columns (10,22) have mixed types.Specify dtype option on import or set low_memory=False.\n",
      "  interactivity=interactivity, compiler=compiler, result=result)\n"
     ]
    }
   ],
   "source": [
    "lend_df = pd.read_csv(\"data/lending_data_7a_1991-2020.csv\").drop(\"Unnamed: 0\", axis=1)"
   ]
  },
  {
   "cell_type": "code",
   "execution_count": 5,
   "metadata": {},
   "outputs": [],
   "source": [
    "dict_7a = pd.read_csv(\"data/7a_FOIA_Data_Dictionary.csv\")"
   ]
  },
  {
   "cell_type": "code",
   "execution_count": 6,
   "metadata": {},
   "outputs": [
    {
     "data": {
      "text/html": [
       "<div>\n",
       "<style scoped>\n",
       "    .dataframe tbody tr th:only-of-type {\n",
       "        vertical-align: middle;\n",
       "    }\n",
       "\n",
       "    .dataframe tbody tr th {\n",
       "        vertical-align: top;\n",
       "    }\n",
       "\n",
       "    .dataframe thead th {\n",
       "        text-align: right;\n",
       "    }\n",
       "</style>\n",
       "<table border=\"1\" class=\"dataframe\">\n",
       "  <thead>\n",
       "    <tr style=\"text-align: right;\">\n",
       "      <th></th>\n",
       "      <th>Field Name</th>\n",
       "      <th>Definition</th>\n",
       "    </tr>\n",
       "  </thead>\n",
       "  <tbody>\n",
       "    <tr>\n",
       "      <th>0</th>\n",
       "      <td>Program</td>\n",
       "      <td>Indicator of whether loan was approved under SBA's 7(a) or 504 loan program</td>\n",
       "    </tr>\n",
       "    <tr>\n",
       "      <th>1</th>\n",
       "      <td>BorrName</td>\n",
       "      <td>Borrower name</td>\n",
       "    </tr>\n",
       "    <tr>\n",
       "      <th>2</th>\n",
       "      <td>BorrStreet</td>\n",
       "      <td>Borrower street address</td>\n",
       "    </tr>\n",
       "    <tr>\n",
       "      <th>3</th>\n",
       "      <td>BorrCity</td>\n",
       "      <td>Borrower city</td>\n",
       "    </tr>\n",
       "    <tr>\n",
       "      <th>4</th>\n",
       "      <td>BorrState</td>\n",
       "      <td>Borrower state</td>\n",
       "    </tr>\n",
       "    <tr>\n",
       "      <th>5</th>\n",
       "      <td>BorrZip</td>\n",
       "      <td>Borrower zip code</td>\n",
       "    </tr>\n",
       "    <tr>\n",
       "      <th>6</th>\n",
       "      <td>BankName</td>\n",
       "      <td>Name of the bank that the loan is currently assigned to</td>\n",
       "    </tr>\n",
       "    <tr>\n",
       "      <th>7</th>\n",
       "      <td>BankStreet</td>\n",
       "      <td>Bank street address</td>\n",
       "    </tr>\n",
       "    <tr>\n",
       "      <th>8</th>\n",
       "      <td>BankCity</td>\n",
       "      <td>Bank city</td>\n",
       "    </tr>\n",
       "    <tr>\n",
       "      <th>9</th>\n",
       "      <td>BankState</td>\n",
       "      <td>Bank state</td>\n",
       "    </tr>\n",
       "    <tr>\n",
       "      <th>10</th>\n",
       "      <td>BankZip</td>\n",
       "      <td>Bank zip code</td>\n",
       "    </tr>\n",
       "    <tr>\n",
       "      <th>11</th>\n",
       "      <td>GrossApproval</td>\n",
       "      <td>Total loan amount</td>\n",
       "    </tr>\n",
       "    <tr>\n",
       "      <th>12</th>\n",
       "      <td>SBAGuaranteedApproval</td>\n",
       "      <td>Amount of SBA's loan guaranty</td>\n",
       "    </tr>\n",
       "    <tr>\n",
       "      <th>13</th>\n",
       "      <td>ApprovalDate</td>\n",
       "      <td>Date the loan was approved</td>\n",
       "    </tr>\n",
       "    <tr>\n",
       "      <th>14</th>\n",
       "      <td>ApprovalFiscalYear</td>\n",
       "      <td>Fiscal year the loan was approved</td>\n",
       "    </tr>\n",
       "    <tr>\n",
       "      <th>15</th>\n",
       "      <td>FirstDisbursementDate</td>\n",
       "      <td>Date of first loan disbursement (if available)</td>\n",
       "    </tr>\n",
       "    <tr>\n",
       "      <th>16</th>\n",
       "      <td>DeliveryMethod</td>\n",
       "      <td>Specific delivery method loan was approved under.  See SOP 50 10 5 for definitions and rules for each delivery method.  \\n7(a) Delivery Methods:\\n• CA = Community Advantage\\n• CLP = Certified Lenders Program\\n• COMM EXPRS = Community Express (inactive)\\n• DFP = Dealer Floor Plan (inactive)\\n• DIRECT = Direct Loan (inactive)\\n• EWCP = Export Working Capital Program\\n• EXP CO GTY = Co-guaranty w...</td>\n",
       "    </tr>\n",
       "    <tr>\n",
       "      <th>17</th>\n",
       "      <td>subpgmdesc</td>\n",
       "      <td>Subprogram description - specific subprogram loan was aproved under.  See SOP 50 10 5 for definitions and rules for each subprogram.</td>\n",
       "    </tr>\n",
       "    <tr>\n",
       "      <th>18</th>\n",
       "      <td>InitialInterestRate</td>\n",
       "      <td>Initial interest rate - total interest rate (base rate plus spread) at time loan was approved</td>\n",
       "    </tr>\n",
       "    <tr>\n",
       "      <th>19</th>\n",
       "      <td>TermInMonths</td>\n",
       "      <td>Length of loan term</td>\n",
       "    </tr>\n",
       "    <tr>\n",
       "      <th>20</th>\n",
       "      <td>NaicsCode</td>\n",
       "      <td>North American Industry Classification System (NAICS) code</td>\n",
       "    </tr>\n",
       "    <tr>\n",
       "      <th>21</th>\n",
       "      <td>NaicsDescription</td>\n",
       "      <td>North American Industry Classification System (NAICS) description</td>\n",
       "    </tr>\n",
       "    <tr>\n",
       "      <th>22</th>\n",
       "      <td>FranchiseCode</td>\n",
       "      <td>Franchise Code</td>\n",
       "    </tr>\n",
       "    <tr>\n",
       "      <th>23</th>\n",
       "      <td>FranchiseName</td>\n",
       "      <td>Franchise Name (if applicable)</td>\n",
       "    </tr>\n",
       "    <tr>\n",
       "      <th>24</th>\n",
       "      <td>ProjectCounty</td>\n",
       "      <td>County where project occurs</td>\n",
       "    </tr>\n",
       "    <tr>\n",
       "      <th>25</th>\n",
       "      <td>ProjectState</td>\n",
       "      <td>State where project occurs</td>\n",
       "    </tr>\n",
       "    <tr>\n",
       "      <th>26</th>\n",
       "      <td>BusinessType</td>\n",
       "      <td>Borrower Business Type - Individual, Partnership, or Corporation</td>\n",
       "    </tr>\n",
       "    <tr>\n",
       "      <th>27</th>\n",
       "      <td>LoanStatus</td>\n",
       "      <td>Current status of loan:  \\n• COMMIT = Undisbursed\\n• PIF = Paid In Full\\n• CHGOFF = Charged Off\\n• CANCLD = Cancelled\\n• EXEMPT = The status of loans that have been disbursed but have not been cancelled, paid in full, or charged off are exempt from disclosure under FOIA Exemption 4</td>\n",
       "    </tr>\n",
       "    <tr>\n",
       "      <th>28</th>\n",
       "      <td>ChargeOffDate</td>\n",
       "      <td>Date SBA charged off loan (if applicable)</td>\n",
       "    </tr>\n",
       "    <tr>\n",
       "      <th>29</th>\n",
       "      <td>GrossChargeOffAmount</td>\n",
       "      <td>Total loan balance charged off (includes guaranteed and non-guaranteed portion of loan)</td>\n",
       "    </tr>\n",
       "    <tr>\n",
       "      <th>30</th>\n",
       "      <td>RevolverStatus</td>\n",
       "      <td>Indicator of whether a loan is a term loan or revolving line of credit (0=Term, 1=Revolver)</td>\n",
       "    </tr>\n",
       "    <tr>\n",
       "      <th>31</th>\n",
       "      <td>JobsSupported</td>\n",
       "      <td>Total Jobs Created + Jobs Retained as reported by lender on SBA Loan Application.  SBA does not review, audit, or validate these numbers - they are simply self-reported, good faith estimates by the lender.</td>\n",
       "    </tr>\n",
       "  </tbody>\n",
       "</table>\n",
       "</div>"
      ],
      "text/plain": [
       "               Field Name  \\\n",
       "0                 Program   \n",
       "1                BorrName   \n",
       "2              BorrStreet   \n",
       "3                BorrCity   \n",
       "4               BorrState   \n",
       "5                 BorrZip   \n",
       "6                BankName   \n",
       "7              BankStreet   \n",
       "8                BankCity   \n",
       "9               BankState   \n",
       "10                BankZip   \n",
       "11          GrossApproval   \n",
       "12  SBAGuaranteedApproval   \n",
       "13           ApprovalDate   \n",
       "14     ApprovalFiscalYear   \n",
       "15  FirstDisbursementDate   \n",
       "16         DeliveryMethod   \n",
       "17             subpgmdesc   \n",
       "18    InitialInterestRate   \n",
       "19           TermInMonths   \n",
       "20              NaicsCode   \n",
       "21       NaicsDescription   \n",
       "22          FranchiseCode   \n",
       "23          FranchiseName   \n",
       "24          ProjectCounty   \n",
       "25           ProjectState   \n",
       "26           BusinessType   \n",
       "27             LoanStatus   \n",
       "28          ChargeOffDate   \n",
       "29   GrossChargeOffAmount   \n",
       "30         RevolverStatus   \n",
       "31          JobsSupported   \n",
       "\n",
       "                                                                                                                                                                                                                                                                                                                                                                                                         Definition  \n",
       "0                                                                                                                                                                                                                                                                                                                                       Indicator of whether loan was approved under SBA's 7(a) or 504 loan program  \n",
       "1                                                                                                                                                                                                                                                                                                                                                                                                     Borrower name  \n",
       "2                                                                                                                                                                                                                                                                                                                                                                                           Borrower street address  \n",
       "3                                                                                                                                                                                                                                                                                                                                                                                                     Borrower city  \n",
       "4                                                                                                                                                                                                                                                                                                                                                                                                    Borrower state  \n",
       "5                                                                                                                                                                                                                                                                                                                                                                                                 Borrower zip code  \n",
       "6                                                                                                                                                                                                                                                                                                                                                           Name of the bank that the loan is currently assigned to  \n",
       "7                                                                                                                                                                                                                                                                                                                                                                                               Bank street address  \n",
       "8                                                                                                                                                                                                                                                                                                                                                                                                         Bank city  \n",
       "9                                                                                                                                                                                                                                                                                                                                                                                                        Bank state  \n",
       "10                                                                                                                                                                                                                                                                                                                                                                                                    Bank zip code  \n",
       "11                                                                                                                                                                                                                                                                                                                                                                                                Total loan amount  \n",
       "12                                                                                                                                                                                                                                                                                                                                                                                    Amount of SBA's loan guaranty  \n",
       "13                                                                                                                                                                                                                                                                                                                                                                                       Date the loan was approved  \n",
       "14                                                                                                                                                                                                                                                                                                                                                                                Fiscal year the loan was approved  \n",
       "15                                                                                                                                                                                                                                                                                                                                                                   Date of first loan disbursement (if available)  \n",
       "16  Specific delivery method loan was approved under.  See SOP 50 10 5 for definitions and rules for each delivery method.  \\n7(a) Delivery Methods:\\n• CA = Community Advantage\\n• CLP = Certified Lenders Program\\n• COMM EXPRS = Community Express (inactive)\\n• DFP = Dealer Floor Plan (inactive)\\n• DIRECT = Direct Loan (inactive)\\n• EWCP = Export Working Capital Program\\n• EXP CO GTY = Co-guaranty w...  \n",
       "17                                                                                                                                                                                                                                                                             Subprogram description - specific subprogram loan was aproved under.  See SOP 50 10 5 for definitions and rules for each subprogram.  \n",
       "18                                                                                                                                                                                                                                                                                                                    Initial interest rate - total interest rate (base rate plus spread) at time loan was approved  \n",
       "19                                                                                                                                                                                                                                                                                                                                                                                              Length of loan term  \n",
       "20                                                                                                                                                                                                                                                                                                                                                       North American Industry Classification System (NAICS) code  \n",
       "21                                                                                                                                                                                                                                                                                                                                                North American Industry Classification System (NAICS) description  \n",
       "22                                                                                                                                                                                                                                                                                                                                                                                                   Franchise Code  \n",
       "23                                                                                                                                                                                                                                                                                                                                                                                   Franchise Name (if applicable)  \n",
       "24                                                                                                                                                                                                                                                                                                                                                                                      County where project occurs  \n",
       "25                                                                                                                                                                                                                                                                                                                                                                                       State where project occurs  \n",
       "26                                                                                                                                                                                                                                                                                                                                                 Borrower Business Type - Individual, Partnership, or Corporation  \n",
       "27                                                                                                                       Current status of loan:  \\n• COMMIT = Undisbursed\\n• PIF = Paid In Full\\n• CHGOFF = Charged Off\\n• CANCLD = Cancelled\\n• EXEMPT = The status of loans that have been disbursed but have not been cancelled, paid in full, or charged off are exempt from disclosure under FOIA Exemption 4  \n",
       "28                                                                                                                                                                                                                                                                                                                                                                        Date SBA charged off loan (if applicable)  \n",
       "29                                                                                                                                                                                                                                                                                                                          Total loan balance charged off (includes guaranteed and non-guaranteed portion of loan)  \n",
       "30                                                                                                                                                                                                                                                                                                                      Indicator of whether a loan is a term loan or revolving line of credit (0=Term, 1=Revolver)  \n",
       "31                                                                                                                                                                                                    Total Jobs Created + Jobs Retained as reported by lender on SBA Loan Application.  SBA does not review, audit, or validate these numbers - they are simply self-reported, good faith estimates by the lender.  "
      ]
     },
     "execution_count": 6,
     "metadata": {},
     "output_type": "execute_result"
    }
   ],
   "source": [
    "dict_7a"
   ]
  },
  {
   "cell_type": "markdown",
   "metadata": {},
   "source": [
    "# 1. Filtering companies using location, lending amts, headcount, etc."
   ]
  },
  {
   "cell_type": "code",
   "execution_count": 9,
   "metadata": {
    "scrolled": true
   },
   "outputs": [
    {
     "data": {
      "text/plain": [
       "0           140000\n",
       "1            95000\n",
       "2           115000\n",
       "3            50000\n",
       "4            80000\n",
       "            ...   \n",
       "1193009    2497000\n",
       "1193010     100000\n",
       "1193011      15000\n",
       "1193012      15000\n",
       "1193013    1268300\n",
       "Name: GrossApproval, Length: 1193014, dtype: int64"
      ]
     },
     "execution_count": 9,
     "metadata": {},
     "output_type": "execute_result"
    }
   ],
   "source": [
    "lend_df.GrossApproval"
   ]
  },
  {
   "cell_type": "markdown",
   "metadata": {},
   "source": [
    "# 2. How do interest rates, volume, etc. differ by groupings"
   ]
  },
  {
   "cell_type": "code",
   "execution_count": 6,
   "metadata": {},
   "outputs": [],
   "source": [
    "import scipy.stats as stats"
   ]
  },
  {
   "cell_type": "markdown",
   "metadata": {},
   "source": [
    "## Interest rates"
   ]
  },
  {
   "cell_type": "code",
   "execution_count": 14,
   "metadata": {},
   "outputs": [],
   "source": [
    "interest_df = lend_df[~lend_df[\"InitialInterestRate\"].isnull()][['BorrName', 'InitialInterestRate', 'ApprovalDate', 'FirstDisbursementDate', 'code', 'desc']]"
   ]
  },
  {
   "cell_type": "code",
   "execution_count": 36,
   "metadata": {},
   "outputs": [],
   "source": [
    "interest_group = interest_df[['desc', 'InitialInterestRate']].groupby('desc', as_index=False).agg(\n",
    "                      {'InitialInterestRate':['mean','std', 'count']})"
   ]
  },
  {
   "cell_type": "code",
   "execution_count": 63,
   "metadata": {},
   "outputs": [
    {
     "data": {
      "text/html": [
       "<div>\n",
       "<style scoped>\n",
       "    .dataframe tbody tr th:only-of-type {\n",
       "        vertical-align: middle;\n",
       "    }\n",
       "\n",
       "    .dataframe tbody tr th {\n",
       "        vertical-align: top;\n",
       "    }\n",
       "\n",
       "    .dataframe thead tr th {\n",
       "        text-align: left;\n",
       "    }\n",
       "</style>\n",
       "<table border=\"1\" class=\"dataframe\">\n",
       "  <thead>\n",
       "    <tr>\n",
       "      <th></th>\n",
       "      <th>desc</th>\n",
       "      <th colspan=\"3\" halign=\"left\">InitialInterestRate</th>\n",
       "    </tr>\n",
       "    <tr>\n",
       "      <th></th>\n",
       "      <th></th>\n",
       "      <th>mean</th>\n",
       "      <th>std</th>\n",
       "      <th>count</th>\n",
       "    </tr>\n",
       "  </thead>\n",
       "  <tbody>\n",
       "    <tr>\n",
       "      <th>800</th>\n",
       "      <td>Private Households</td>\n",
       "      <td>5.536031746031746</td>\n",
       "      <td>0.8624282735301103</td>\n",
       "      <td>126</td>\n",
       "    </tr>\n",
       "    <tr>\n",
       "      <th>208</th>\n",
       "      <td>Conveyor and Conveying Equipment Manufacturing</td>\n",
       "      <td>5.608472222222222</td>\n",
       "      <td>1.3252357321233084</td>\n",
       "      <td>72</td>\n",
       "    </tr>\n",
       "    <tr>\n",
       "      <th>722</th>\n",
       "      <td>Packaging Machinery Manufacturing</td>\n",
       "      <td>5.6737</td>\n",
       "      <td>1.5011140642530485</td>\n",
       "      <td>60</td>\n",
       "    </tr>\n",
       "    <tr>\n",
       "      <th>918</th>\n",
       "      <td>Special Die and Tool, Die Set, Jig, and Fixture Manufacturing</td>\n",
       "      <td>5.693318007662837</td>\n",
       "      <td>1.234349459004097</td>\n",
       "      <td>261</td>\n",
       "    </tr>\n",
       "    <tr>\n",
       "      <th>299</th>\n",
       "      <td>Fabricated Pipe and Pipe Fitting Manufacturing</td>\n",
       "      <td>5.696818181818181</td>\n",
       "      <td>1.294019568382427</td>\n",
       "      <td>66</td>\n",
       "    </tr>\n",
       "    <tr>\n",
       "      <th>...</th>\n",
       "      <td>...</td>\n",
       "      <td>...</td>\n",
       "      <td>...</td>\n",
       "      <td>...</td>\n",
       "    </tr>\n",
       "    <tr>\n",
       "      <th>25</th>\n",
       "      <td>All Other General Merchandise Stores</td>\n",
       "      <td>7.585496183206105</td>\n",
       "      <td>1.6929292836975514</td>\n",
       "      <td>131</td>\n",
       "    </tr>\n",
       "    <tr>\n",
       "      <th>1026</th>\n",
       "      <td>Wireless Telecommunications Carriers (except Satellite)</td>\n",
       "      <td>7.602</td>\n",
       "      <td>1.4700512321004324</td>\n",
       "      <td>65</td>\n",
       "    </tr>\n",
       "    <tr>\n",
       "      <th>60</th>\n",
       "      <td>All Other Support Activities for Transportation</td>\n",
       "      <td>7.609307531380744</td>\n",
       "      <td>1.8679989583991945</td>\n",
       "      <td>478</td>\n",
       "    </tr>\n",
       "    <tr>\n",
       "      <th>557</th>\n",
       "      <td>Musical Groups and Artists</td>\n",
       "      <td>7.878714285714286</td>\n",
       "      <td>1.6635477572951267</td>\n",
       "      <td>140</td>\n",
       "    </tr>\n",
       "    <tr>\n",
       "      <th>282</th>\n",
       "      <td>Electronic Shopping and Mail-Order Houses</td>\n",
       "      <td>8.749448000000102</td>\n",
       "      <td>1.8594409542405625</td>\n",
       "      <td>3375</td>\n",
       "    </tr>\n",
       "  </tbody>\n",
       "</table>\n",
       "<p>651 rows × 4 columns</p>\n",
       "</div>"
      ],
      "text/plain": [
       "                                                               desc  \\\n",
       "                                                                      \n",
       "800                                              Private Households   \n",
       "208                  Conveyor and Conveying Equipment Manufacturing   \n",
       "722                               Packaging Machinery Manufacturing   \n",
       "918   Special Die and Tool, Die Set, Jig, and Fixture Manufacturing   \n",
       "299                  Fabricated Pipe and Pipe Fitting Manufacturing   \n",
       "...                                                             ...   \n",
       "25                             All Other General Merchandise Stores   \n",
       "1026        Wireless Telecommunications Carriers (except Satellite)   \n",
       "60                  All Other Support Activities for Transportation   \n",
       "557                                      Musical Groups and Artists   \n",
       "282                       Electronic Shopping and Mail-Order Houses   \n",
       "\n",
       "     InitialInterestRate                           \n",
       "                    mean                std count  \n",
       "800    5.536031746031746 0.8624282735301103   126  \n",
       "208    5.608472222222222 1.3252357321233084    72  \n",
       "722               5.6737 1.5011140642530485    60  \n",
       "918    5.693318007662837  1.234349459004097   261  \n",
       "299    5.696818181818181  1.294019568382427    66  \n",
       "...                  ...                ...   ...  \n",
       "25     7.585496183206105 1.6929292836975514   131  \n",
       "1026               7.602 1.4700512321004324    65  \n",
       "60     7.609307531380744 1.8679989583991945   478  \n",
       "557    7.878714285714286 1.6635477572951267   140  \n",
       "282    8.749448000000102 1.8594409542405625  3375  \n",
       "\n",
       "[651 rows x 4 columns]"
      ]
     },
     "execution_count": 63,
     "metadata": {},
     "output_type": "execute_result"
    }
   ],
   "source": [
    "interest_group[interest_group[('InitialInterestRate','count')] > 50].sort_values([('InitialInterestRate','mean')])"
   ]
  },
  {
   "cell_type": "code",
   "execution_count": 64,
   "metadata": {},
   "outputs": [],
   "source": [
    "interest_group[interest_group[('InitialInterestRate','count')] > 50].sort_values([('InitialInterestRate','mean')]).to_csv('interest_mean_std_by_group.csv')"
   ]
  },
  {
   "cell_type": "code",
   "execution_count": 30,
   "metadata": {},
   "outputs": [
    {
     "data": {
      "text/plain": [
       "<matplotlib.axes._subplots.AxesSubplot at 0x7fd3900dcfd0>"
      ]
     },
     "execution_count": 30,
     "metadata": {},
     "output_type": "execute_result"
    },
    {
     "data": {
      "image/png": "[encoded data removed]",
      "text/plain": [
       "<Figure size 432x288 with 1 Axes>"
      ]
     },
     "metadata": {
      "needs_background": "light"
     },
     "output_type": "display_data"
    }
   ],
   "source": [
    "interest_df[:100][['desc', 'InitialInterestRate']].boxplot(by='desc')"
   ]
  },
  {
   "cell_type": "markdown",
   "metadata": {},
   "source": [
    "## Volume"
   ]
  },
  {
   "cell_type": "code",
   "execution_count": 5,
   "metadata": {},
   "outputs": [],
   "source": [
    "amount_df = lend_df[~lend_df[\"GrossApproval\"].isnull()][['BorrName', 'GrossApproval', 'ApprovalDate', 'FirstDisbursementDate', 'code', 'desc']]"
   ]
  },
  {
   "cell_type": "code",
   "execution_count": 15,
   "metadata": {},
   "outputs": [],
   "source": [
    "amount_group = amount_df[['desc', 'GrossApproval']].groupby('desc', as_index=False).agg(\n",
    "                      {'GrossApproval':['mean','std', 'count']})"
   ]
  },
  {
   "cell_type": "code",
   "execution_count": 18,
   "metadata": {
    "scrolled": false
   },
   "outputs": [
    {
     "data": {
      "text/html": [
       "<div>\n",
       "<style scoped>\n",
       "    .dataframe tbody tr th:only-of-type {\n",
       "        vertical-align: middle;\n",
       "    }\n",
       "\n",
       "    .dataframe tbody tr th {\n",
       "        vertical-align: top;\n",
       "    }\n",
       "\n",
       "    .dataframe thead tr th {\n",
       "        text-align: left;\n",
       "    }\n",
       "</style>\n",
       "<table border=\"1\" class=\"dataframe\">\n",
       "  <thead>\n",
       "    <tr>\n",
       "      <th></th>\n",
       "      <th>desc</th>\n",
       "      <th colspan=\"3\" halign=\"left\">GrossApproval</th>\n",
       "    </tr>\n",
       "    <tr>\n",
       "      <th></th>\n",
       "      <th></th>\n",
       "      <th>mean</th>\n",
       "      <th>std</th>\n",
       "      <th>count</th>\n",
       "    </tr>\n",
       "  </thead>\n",
       "  <tbody>\n",
       "    <tr>\n",
       "      <th>117</th>\n",
       "      <td>Blood and Organ Banks</td>\n",
       "      <td>34,400.0</td>\n",
       "      <td>93,216.40883666617</td>\n",
       "      <td>90</td>\n",
       "    </tr>\n",
       "    <tr>\n",
       "      <th>662</th>\n",
       "      <td>Other Direct Insurance (except Life, Health, and Medical) Carriers</td>\n",
       "      <td>55,988.04154302671</td>\n",
       "      <td>284,596.60074721085</td>\n",
       "      <td>337</td>\n",
       "    </tr>\n",
       "    <tr>\n",
       "      <th>348</th>\n",
       "      <td>Footwear and Leather Goods Repair</td>\n",
       "      <td>63,354.2600896861</td>\n",
       "      <td>168,807.81403304983</td>\n",
       "      <td>223</td>\n",
       "    </tr>\n",
       "    <tr>\n",
       "      <th>82</th>\n",
       "      <td>Apprenticeship Training</td>\n",
       "      <td>63,380.670731707316</td>\n",
       "      <td>187,124.87768003158</td>\n",
       "      <td>82</td>\n",
       "    </tr>\n",
       "    <tr>\n",
       "      <th>564</th>\n",
       "      <td>Musical Groups and Artists</td>\n",
       "      <td>73,902.28571428571</td>\n",
       "      <td>190,123.3163245196</td>\n",
       "      <td>350</td>\n",
       "    </tr>\n",
       "    <tr>\n",
       "      <th>...</th>\n",
       "      <td>...</td>\n",
       "      <td>...</td>\n",
       "      <td>...</td>\n",
       "      <td>...</td>\n",
       "    </tr>\n",
       "    <tr>\n",
       "      <th>834</th>\n",
       "      <td>Refrigerated Warehousing and Storage</td>\n",
       "      <td>846,945.3623188406</td>\n",
       "      <td>1,112,450.5130915286</td>\n",
       "      <td>138</td>\n",
       "    </tr>\n",
       "    <tr>\n",
       "      <th>89</th>\n",
       "      <td>Assisted Living Facilities for the Elderly</td>\n",
       "      <td>856,064.4105080832</td>\n",
       "      <td>1,022,772.065806388</td>\n",
       "      <td>1732</td>\n",
       "    </tr>\n",
       "    <tr>\n",
       "      <th>387</th>\n",
       "      <td>Grain and Field Bean Merchant Wholesalers</td>\n",
       "      <td>922,709.8971428572</td>\n",
       "      <td>1,153,501.8281706069</td>\n",
       "      <td>175</td>\n",
       "    </tr>\n",
       "    <tr>\n",
       "      <th>480</th>\n",
       "      <td>Lessors of Miniwarehouses and Self-Storage Units</td>\n",
       "      <td>1,258,816.7248764415</td>\n",
       "      <td>1,324,345.7406842173</td>\n",
       "      <td>1214</td>\n",
       "    </tr>\n",
       "    <tr>\n",
       "      <th>418</th>\n",
       "      <td>Hotels (except Casino Hotels) and Motels</td>\n",
       "      <td>1,434,118.820993559</td>\n",
       "      <td>1,233,655.838211468</td>\n",
       "      <td>15681</td>\n",
       "    </tr>\n",
       "  </tbody>\n",
       "</table>\n",
       "<p>798 rows × 4 columns</p>\n",
       "</div>"
      ],
      "text/plain": [
       "                                                                   desc  \\\n",
       "                                                                          \n",
       "117                                               Blood and Organ Banks   \n",
       "662  Other Direct Insurance (except Life, Health, and Medical) Carriers   \n",
       "348                                   Footwear and Leather Goods Repair   \n",
       "82                                              Apprenticeship Training   \n",
       "564                                          Musical Groups and Artists   \n",
       "..                                                                  ...   \n",
       "834                                Refrigerated Warehousing and Storage   \n",
       "89                           Assisted Living Facilities for the Elderly   \n",
       "387                           Grain and Field Bean Merchant Wholesalers   \n",
       "480                    Lessors of Miniwarehouses and Self-Storage Units   \n",
       "418                            Hotels (except Casino Hotels) and Motels   \n",
       "\n",
       "           GrossApproval                              \n",
       "                    mean                  std  count  \n",
       "117             34,400.0   93,216.40883666617     90  \n",
       "662   55,988.04154302671  284,596.60074721085    337  \n",
       "348    63,354.2600896861  168,807.81403304983    223  \n",
       "82   63,380.670731707316  187,124.87768003158     82  \n",
       "564   73,902.28571428571   190,123.3163245196    350  \n",
       "..                   ...                  ...    ...  \n",
       "834   846,945.3623188406 1,112,450.5130915286    138  \n",
       "89    856,064.4105080832  1,022,772.065806388   1732  \n",
       "387   922,709.8971428572 1,153,501.8281706069    175  \n",
       "480 1,258,816.7248764415 1,324,345.7406842173   1214  \n",
       "418  1,434,118.820993559  1,233,655.838211468  15681  \n",
       "\n",
       "[798 rows x 4 columns]"
      ]
     },
     "execution_count": 18,
     "metadata": {},
     "output_type": "execute_result"
    }
   ],
   "source": [
    "amount_group[amount_group[('GrossApproval','count')] > 50].sort_values([('GrossApproval','mean')])"
   ]
  },
  {
   "cell_type": "code",
   "execution_count": 19,
   "metadata": {},
   "outputs": [],
   "source": [
    "amount_group[amount_group[('GrossApproval','count')] > 50].sort_values([('GrossApproval','mean')]).to_csv('amount_mean_std_by_group.csv')"
   ]
  },
  {
   "cell_type": "markdown",
   "metadata": {},
   "source": [
    "#### Volume - ANOVA Testing"
   ]
  },
  {
   "cell_type": "code",
   "execution_count": 8,
   "metadata": {},
   "outputs": [],
   "source": [
    "from statsmodels.formula.api import ols"
   ]
  },
  {
   "cell_type": "code",
   "execution_count": null,
   "metadata": {},
   "outputs": [],
   "source": [
    "results = ols('GrossApproval ~ C(desc)', data=amount_df).fit()"
   ]
  },
  {
   "cell_type": "code",
   "execution_count": null,
   "metadata": {},
   "outputs": [],
   "source": [
    "results.summary()\n"
   ]
  },
  {
   "cell_type": "markdown",
   "metadata": {},
   "source": [
    "# 3. How to determine if company is still alive"
   ]
  },
  {
   "cell_type": "code",
   "execution_count": null,
   "metadata": {},
   "outputs": [],
   "source": []
  }
 ],
 "metadata": {
  "kernelspec": {
   "display_name": "Python 3",
   "language": "python",
   "name": "python3"
  },
  "language_info": {
   "codemirror_mode": {
    "name": "ipython",
    "version": 3
   },
   "file_extension": ".py",
   "mimetype": "text/x-python",
   "name": "python",
   "nbconvert_exporter": "python",
   "pygments_lexer": "ipython3",
   "version": "3.7.6"
  },
  "widgets": {
   "application/vnd.jupyter.widget-state+json": {
    "state": {},
    "version_major": 2,
    "version_minor": 0
   }
  }
 },
 "nbformat": 4,
 "nbformat_minor": 4
}
