{
  "nbformat": 4,
  "nbformat_minor": 0,
  "metadata": {
    "kernelspec": {
      "display_name": "Python 3",
      "language": "python",
      "name": "python3"
    },
    "language_info": {
      "codemirror_mode": {
        "name": "ipython",
        "version": 3
      },
      "file_extension": ".py",
      "mimetype": "text/x-python",
      "name": "python",
      "nbconvert_exporter": "python",
      "pygments_lexer": "ipython3",
      "version": "3.7.6"
    },
    "colab": {
      "name": "SBA Lending Data Analysis.ipynb",
      "provenance": [],
      "collapsed_sections": [
        "SSrApBAiKC7L",
        "FMWHOE2xKC7h"
      ],
      "include_colab_link": true
    }
  },
  "cells": [
    {
      "cell_type": "markdown",
      "metadata": {
        "id": "view-in-github",
        "colab_type": "text"
      },
      "source": [
        "<a href=\"https://colab.research.google.com/github/antonstorozhilov/sba_experiment/blob/master/SBA_Lending_Data_Analysis.ipynb\" target=\"_parent\"><img src=\"https://colab.research.google.com/assets/colab-badge.svg\" alt=\"Open In Colab\"/></a>"
      ]
    },
    {
      "cell_type": "markdown",
      "metadata": {
        "id": "po93hWQGKC67",
        "colab_type": "text"
      },
      "source": [
        "#### Objective: Develop target list of companies to explore further. \n",
        "###### Traingulating:\n",
        "- Growth\n",
        "- Age\n",
        "- Business health"
      ]
    },
    {
      "cell_type": "markdown",
      "metadata": {
        "id": "so9exixSKC66",
        "colab_type": "text"
      },
      "source": [
        "## Configuration"
      ]
    },
    {
      "cell_type": "code",
      "metadata": {
        "id": "IKKbnyX-Kbqf",
        "colab_type": "code",
        "colab": {
          "base_uri": "https://localhost:8080/",
          "height": 124
        },
        "outputId": "4b721626-cd93-414e-fd42-aa84ff2b0459"
      },
      "source": [
        "from google.colab import drive\n",
        "drive.mount('/content/drive/')"
      ],
      "execution_count": 5,
      "outputs": [
        {
          "output_type": "stream",
          "text": [
            "Go to this URL in a browser: https://accounts.google.com/o/oauth2/auth?client_id=947318989803-6bn6qk8qdgf4n4g3pfee6491hc0brc4i.apps.googleusercontent.com&redirect_uri=urn%3aietf%3awg%3aoauth%3a2.0%3aoob&response_type=code&scope=email%20https%3a%2f%2fwww.googleapis.com%2fauth%2fdocs.test%20https%3a%2f%2fwww.googleapis.com%2fauth%2fdrive%20https%3a%2f%2fwww.googleapis.com%2fauth%2fdrive.photos.readonly%20https%3a%2f%2fwww.googleapis.com%2fauth%2fpeopleapi.readonly\n",
            "\n",
            "Enter your authorization code:\n",
            "··········\n",
            "Mounted at /content/drive/\n"
          ],
          "name": "stdout"
        }
      ]
    },
    {
      "cell_type": "code",
      "metadata": {
        "id": "dTzGQ8ZhKyD6",
        "colab_type": "code",
        "colab": {}
      },
      "source": [
        "data_dir = 'drive/My Drive/sba-experiment/data'"
      ],
      "execution_count": 0,
      "outputs": []
    },
    {
      "cell_type": "code",
      "metadata": {
        "id": "js4thIXbKC69",
        "colab_type": "code",
        "colab": {}
      },
      "source": [
        "import pandas as pd\n",
        "import numpy as np"
      ],
      "execution_count": 0,
      "outputs": []
    },
    {
      "cell_type": "code",
      "metadata": {
        "id": "oan7UTJFKC7E",
        "colab_type": "code",
        "outputId": "29bb72b1-9e05-4f56-f5cc-cbef28af9c26",
        "colab": {
          "base_uri": "https://localhost:8080/",
          "height": 17
        }
      },
      "source": [
        "pd.set_option('display.max_columns', None)  \n",
        "pd.set_option('display.max_colwidth', 400)\n",
        "pd.set_option('display.float_format', lambda x: '%.4f' % x)\n",
        "pd.options.display.float_format = '{:,}'.format\n",
        "from IPython.core.display import display, HTML\n",
        "display(HTML(\"<style>.container { width:100% !important; }</style>\"))\n",
        "pd.options.display.float_format = '{:,.4f}'.format"
      ],
      "execution_count": 11,
      "outputs": [
        {
          "output_type": "display_data",
          "data": {
            "text/html": [
              "<style>.container { width:100% !important; }</style>"
            ],
            "text/plain": [
              "<IPython.core.display.HTML object>"
            ]
          },
          "metadata": {
            "tags": []
          }
        }
      ]
    },
    {
      "cell_type": "markdown",
      "metadata": {
        "id": "SSrApBAiKC7L",
        "colab_type": "text"
      },
      "source": [
        "# Lending data unification and cleanup"
      ]
    },
    {
      "cell_type": "markdown",
      "metadata": {
        "id": "J6WNXiL4KC7M",
        "colab_type": "text"
      },
      "source": [
        "### Loading Data"
      ]
    },
    {
      "cell_type": "code",
      "metadata": {
        "id": "YbFmLNUPKC7N",
        "colab_type": "code",
        "colab": {}
      },
      "source": [
        "# lending_data_504 = pd.read_csv(\"data/FOIA - 504 (FY1991-Present).csv\", encoding = \"ISO-8859-1\")"
      ],
      "execution_count": 0,
      "outputs": []
    },
    {
      "cell_type": "code",
      "metadata": {
        "id": "SUHF51O-KC7Q",
        "colab_type": "code",
        "colab": {}
      },
      "source": [
        "lending_data_7a_91t99 = pd.read_csv(data_dir+\"/FOIA - 7(a)(FY1991-FY1999).csv\")"
      ],
      "execution_count": 0,
      "outputs": []
    },
    {
      "cell_type": "code",
      "metadata": {
        "id": "gjWuFrxmKC7U",
        "colab_type": "code",
        "colab": {}
      },
      "source": [
        "lending_data_7a_00t09 = pd.read_csv(data_dir+\"/FOIA - 7(a)(FY2000-FY2009).csv\", encoding=\"ISO-8859-1\")"
      ],
      "execution_count": 0,
      "outputs": []
    },
    {
      "cell_type": "code",
      "metadata": {
        "id": "UGd0oTp8KC7W",
        "colab_type": "code",
        "colab": {}
      },
      "source": [
        "lending_data_7a_10tPR = pd.read_csv(data_dir+\"/FOIA - 7(a)(FY2010-Present).csv\")"
      ],
      "execution_count": 0,
      "outputs": []
    },
    {
      "cell_type": "code",
      "metadata": {
        "id": "js2pVLFNKC7a",
        "colab_type": "code",
        "colab": {}
      },
      "source": [
        "dict_7a = pd.read_csv(data_dir+\"/7a_FOIA_Data_Dictionary.csv\")"
      ],
      "execution_count": 0,
      "outputs": []
    },
    {
      "cell_type": "code",
      "metadata": {
        "id": "AmJ7MdubKC7c",
        "colab_type": "code",
        "colab": {}
      },
      "source": [
        "naics_codes = pd.read_csv(data_dir+\"/naics-codes.csv\", header=None)"
      ],
      "execution_count": 0,
      "outputs": []
    },
    {
      "cell_type": "markdown",
      "metadata": {
        "id": "FMWHOE2xKC7h",
        "colab_type": "text"
      },
      "source": [
        "### Cleanup"
      ]
    },
    {
      "cell_type": "code",
      "metadata": {
        "id": "EIO5u5-NKC7h",
        "colab_type": "code",
        "colab": {}
      },
      "source": [
        "lending_data_7a_91t99.drop(['AsOfDate', 'Program'], axis=1, inplace=True)\n",
        "lending_data_7a_00t09.drop(['AsOfDate', 'Program'], axis=1, inplace=True)\n",
        "lending_data_7a_10tPR.drop(['AsOfDate', 'Program'], axis=1, inplace=True)"
      ],
      "execution_count": 0,
      "outputs": []
    },
    {
      "cell_type": "code",
      "metadata": {
        "id": "4xjdepKxKC7k",
        "colab_type": "code",
        "colab": {}
      },
      "source": [
        "dict_7a.columns = ['Field_Name', \"Definition\"]"
      ],
      "execution_count": 0,
      "outputs": []
    },
    {
      "cell_type": "code",
      "metadata": {
        "id": "gjeSlm0DKC7o",
        "colab_type": "code",
        "colab": {}
      },
      "source": [
        "naics_codes.columns = ['code', 'desc']"
      ],
      "execution_count": 0,
      "outputs": []
    },
    {
      "cell_type": "code",
      "metadata": {
        "id": "PrHX7d0sKC7r",
        "colab_type": "code",
        "colab": {}
      },
      "source": [
        "lending_data_7a_91t99 = pd.merge(lending_data_7a_91t99, naics_codes, left_on=\"NaicsCode\", right_on='code')\n",
        "lending_data_7a_00t09 = pd.merge(lending_data_7a_00t09, naics_codes, left_on=\"NaicsCode\", right_on='code')\n",
        "lending_data_7a_10tPR = pd.merge(lending_data_7a_10tPR, naics_codes, left_on=\"NaicsCode\", right_on='code')"
      ],
      "execution_count": 0,
      "outputs": []
    },
    {
      "cell_type": "code",
      "metadata": {
        "id": "fxcGOXcpKC7u",
        "colab_type": "code",
        "colab": {}
      },
      "source": [
        "lending_data_7a_91t99['group'] = '1991-1999'\n",
        "lending_data_7a_00t09['group'] = '2000-2009'\n",
        "lending_data_7a_10tPR['group'] = '2010-2020'"
      ],
      "execution_count": 0,
      "outputs": []
    },
    {
      "cell_type": "code",
      "metadata": {
        "id": "Wn53irfOKC7x",
        "colab_type": "code",
        "colab": {}
      },
      "source": [
        "lend_df = pd.concat([lending_data_7a_91t99,lending_data_7a_00t09,lending_data_7a_10tPR])"
      ],
      "execution_count": 0,
      "outputs": []
    },
    {
      "cell_type": "code",
      "metadata": {
        "id": "8hnLwRAHKC70",
        "colab_type": "code",
        "colab": {}
      },
      "source": [
        "lend_df = lend_df.reset_index(drop=True)"
      ],
      "execution_count": 0,
      "outputs": []
    },
    {
      "cell_type": "code",
      "metadata": {
        "id": "bSCTf22YKC73",
        "colab_type": "code",
        "colab": {}
      },
      "source": [
        "lend_df.to_csv(\"data/lending_data_7a_1991-2020.csv\")"
      ],
      "execution_count": 0,
      "outputs": []
    },
    {
      "cell_type": "markdown",
      "metadata": {
        "id": "oj0uSWyNKC75",
        "colab_type": "text"
      },
      "source": [
        "# Loading Clean Data"
      ]
    },
    {
      "cell_type": "code",
      "metadata": {
        "scrolled": true,
        "id": "iOOEakJKKC8C",
        "colab_type": "code",
        "outputId": "c489f918-7d8d-4f02-d027-40d2b5a700e0",
        "colab": {
          "base_uri": "https://localhost:8080/",
          "height": 52
        }
      },
      "source": [
        "lend_df = pd.read_csv(data_dir+\"/lending_data_7a_1991-2020.csv\").drop(\"Unnamed: 0\", axis=1)"
      ],
      "execution_count": 12,
      "outputs": [
        {
          "output_type": "stream",
          "text": [
            "/usr/local/lib/python3.6/dist-packages/IPython/core/interactiveshell.py:2718: DtypeWarning: Columns (10,22) have mixed types.Specify dtype option on import or set low_memory=False.\n",
            "  interactivity=interactivity, compiler=compiler, result=result)\n"
          ],
          "name": "stderr"
        }
      ]
    },
    {
      "cell_type": "code",
      "metadata": {
        "id": "HIO99a8rKC8F",
        "colab_type": "code",
        "colab": {
          "base_uri": "https://localhost:8080/",
          "height": 381
        },
        "outputId": "9997e21f-0811-4e2b-dfa6-39a21d14628f"
      },
      "source": [
        "dict_7a = pd.read_csv(data_dir+\"data/7a_FOIA_Data_Dictionary.csv\")"
      ],
      "execution_count": 14,
      "outputs": [
        {
          "output_type": "error",
          "ename": "FileNotFoundError",
          "evalue": "ignored",
          "traceback": [
            "\u001b[0;31m---------------------------------------------------------------------------\u001b[0m",
            "\u001b[0;31mFileNotFoundError\u001b[0m                         Traceback (most recent call last)",
            "\u001b[0;32m<ipython-input-14-afebb2ecf43d>\u001b[0m in \u001b[0;36m<module>\u001b[0;34m()\u001b[0m\n\u001b[0;32m----> 1\u001b[0;31m \u001b[0mdict_7a\u001b[0m \u001b[0;34m=\u001b[0m \u001b[0mpd\u001b[0m\u001b[0;34m.\u001b[0m\u001b[0mread_csv\u001b[0m\u001b[0;34m(\u001b[0m\u001b[0mdata_dir\u001b[0m\u001b[0;34m+\u001b[0m\u001b[0;34m\"data/7a_FOIA_Data_Dictionary.csv\"\u001b[0m\u001b[0;34m)\u001b[0m\u001b[0;34m\u001b[0m\u001b[0;34m\u001b[0m\u001b[0m\n\u001b[0m",
            "\u001b[0;32m/usr/local/lib/python3.6/dist-packages/pandas/io/parsers.py\u001b[0m in \u001b[0;36mparser_f\u001b[0;34m(filepath_or_buffer, sep, delimiter, header, names, index_col, usecols, squeeze, prefix, mangle_dupe_cols, dtype, engine, converters, true_values, false_values, skipinitialspace, skiprows, skipfooter, nrows, na_values, keep_default_na, na_filter, verbose, skip_blank_lines, parse_dates, infer_datetime_format, keep_date_col, date_parser, dayfirst, cache_dates, iterator, chunksize, compression, thousands, decimal, lineterminator, quotechar, quoting, doublequote, escapechar, comment, encoding, dialect, error_bad_lines, warn_bad_lines, delim_whitespace, low_memory, memory_map, float_precision)\u001b[0m\n\u001b[1;32m    674\u001b[0m         )\n\u001b[1;32m    675\u001b[0m \u001b[0;34m\u001b[0m\u001b[0m\n\u001b[0;32m--> 676\u001b[0;31m         \u001b[0;32mreturn\u001b[0m \u001b[0m_read\u001b[0m\u001b[0;34m(\u001b[0m\u001b[0mfilepath_or_buffer\u001b[0m\u001b[0;34m,\u001b[0m \u001b[0mkwds\u001b[0m\u001b[0;34m)\u001b[0m\u001b[0;34m\u001b[0m\u001b[0;34m\u001b[0m\u001b[0m\n\u001b[0m\u001b[1;32m    677\u001b[0m \u001b[0;34m\u001b[0m\u001b[0m\n\u001b[1;32m    678\u001b[0m     \u001b[0mparser_f\u001b[0m\u001b[0;34m.\u001b[0m\u001b[0m__name__\u001b[0m \u001b[0;34m=\u001b[0m \u001b[0mname\u001b[0m\u001b[0;34m\u001b[0m\u001b[0;34m\u001b[0m\u001b[0m\n",
            "\u001b[0;32m/usr/local/lib/python3.6/dist-packages/pandas/io/parsers.py\u001b[0m in \u001b[0;36m_read\u001b[0;34m(filepath_or_buffer, kwds)\u001b[0m\n\u001b[1;32m    446\u001b[0m \u001b[0;34m\u001b[0m\u001b[0m\n\u001b[1;32m    447\u001b[0m     \u001b[0;31m# Create the parser.\u001b[0m\u001b[0;34m\u001b[0m\u001b[0;34m\u001b[0m\u001b[0;34m\u001b[0m\u001b[0m\n\u001b[0;32m--> 448\u001b[0;31m     \u001b[0mparser\u001b[0m \u001b[0;34m=\u001b[0m \u001b[0mTextFileReader\u001b[0m\u001b[0;34m(\u001b[0m\u001b[0mfp_or_buf\u001b[0m\u001b[0;34m,\u001b[0m \u001b[0;34m**\u001b[0m\u001b[0mkwds\u001b[0m\u001b[0;34m)\u001b[0m\u001b[0;34m\u001b[0m\u001b[0;34m\u001b[0m\u001b[0m\n\u001b[0m\u001b[1;32m    449\u001b[0m \u001b[0;34m\u001b[0m\u001b[0m\n\u001b[1;32m    450\u001b[0m     \u001b[0;32mif\u001b[0m \u001b[0mchunksize\u001b[0m \u001b[0;32mor\u001b[0m \u001b[0miterator\u001b[0m\u001b[0;34m:\u001b[0m\u001b[0;34m\u001b[0m\u001b[0;34m\u001b[0m\u001b[0m\n",
            "\u001b[0;32m/usr/local/lib/python3.6/dist-packages/pandas/io/parsers.py\u001b[0m in \u001b[0;36m__init__\u001b[0;34m(self, f, engine, **kwds)\u001b[0m\n\u001b[1;32m    878\u001b[0m             \u001b[0mself\u001b[0m\u001b[0;34m.\u001b[0m\u001b[0moptions\u001b[0m\u001b[0;34m[\u001b[0m\u001b[0;34m\"has_index_names\"\u001b[0m\u001b[0;34m]\u001b[0m \u001b[0;34m=\u001b[0m \u001b[0mkwds\u001b[0m\u001b[0;34m[\u001b[0m\u001b[0;34m\"has_index_names\"\u001b[0m\u001b[0;34m]\u001b[0m\u001b[0;34m\u001b[0m\u001b[0;34m\u001b[0m\u001b[0m\n\u001b[1;32m    879\u001b[0m \u001b[0;34m\u001b[0m\u001b[0m\n\u001b[0;32m--> 880\u001b[0;31m         \u001b[0mself\u001b[0m\u001b[0;34m.\u001b[0m\u001b[0m_make_engine\u001b[0m\u001b[0;34m(\u001b[0m\u001b[0mself\u001b[0m\u001b[0;34m.\u001b[0m\u001b[0mengine\u001b[0m\u001b[0;34m)\u001b[0m\u001b[0;34m\u001b[0m\u001b[0;34m\u001b[0m\u001b[0m\n\u001b[0m\u001b[1;32m    881\u001b[0m \u001b[0;34m\u001b[0m\u001b[0m\n\u001b[1;32m    882\u001b[0m     \u001b[0;32mdef\u001b[0m \u001b[0mclose\u001b[0m\u001b[0;34m(\u001b[0m\u001b[0mself\u001b[0m\u001b[0;34m)\u001b[0m\u001b[0;34m:\u001b[0m\u001b[0;34m\u001b[0m\u001b[0;34m\u001b[0m\u001b[0m\n",
            "\u001b[0;32m/usr/local/lib/python3.6/dist-packages/pandas/io/parsers.py\u001b[0m in \u001b[0;36m_make_engine\u001b[0;34m(self, engine)\u001b[0m\n\u001b[1;32m   1112\u001b[0m     \u001b[0;32mdef\u001b[0m \u001b[0m_make_engine\u001b[0m\u001b[0;34m(\u001b[0m\u001b[0mself\u001b[0m\u001b[0;34m,\u001b[0m \u001b[0mengine\u001b[0m\u001b[0;34m=\u001b[0m\u001b[0;34m\"c\"\u001b[0m\u001b[0;34m)\u001b[0m\u001b[0;34m:\u001b[0m\u001b[0;34m\u001b[0m\u001b[0;34m\u001b[0m\u001b[0m\n\u001b[1;32m   1113\u001b[0m         \u001b[0;32mif\u001b[0m \u001b[0mengine\u001b[0m \u001b[0;34m==\u001b[0m \u001b[0;34m\"c\"\u001b[0m\u001b[0;34m:\u001b[0m\u001b[0;34m\u001b[0m\u001b[0;34m\u001b[0m\u001b[0m\n\u001b[0;32m-> 1114\u001b[0;31m             \u001b[0mself\u001b[0m\u001b[0;34m.\u001b[0m\u001b[0m_engine\u001b[0m \u001b[0;34m=\u001b[0m \u001b[0mCParserWrapper\u001b[0m\u001b[0;34m(\u001b[0m\u001b[0mself\u001b[0m\u001b[0;34m.\u001b[0m\u001b[0mf\u001b[0m\u001b[0;34m,\u001b[0m \u001b[0;34m**\u001b[0m\u001b[0mself\u001b[0m\u001b[0;34m.\u001b[0m\u001b[0moptions\u001b[0m\u001b[0;34m)\u001b[0m\u001b[0;34m\u001b[0m\u001b[0;34m\u001b[0m\u001b[0m\n\u001b[0m\u001b[1;32m   1115\u001b[0m         \u001b[0;32melse\u001b[0m\u001b[0;34m:\u001b[0m\u001b[0;34m\u001b[0m\u001b[0;34m\u001b[0m\u001b[0m\n\u001b[1;32m   1116\u001b[0m             \u001b[0;32mif\u001b[0m \u001b[0mengine\u001b[0m \u001b[0;34m==\u001b[0m \u001b[0;34m\"python\"\u001b[0m\u001b[0;34m:\u001b[0m\u001b[0;34m\u001b[0m\u001b[0;34m\u001b[0m\u001b[0m\n",
            "\u001b[0;32m/usr/local/lib/python3.6/dist-packages/pandas/io/parsers.py\u001b[0m in \u001b[0;36m__init__\u001b[0;34m(self, src, **kwds)\u001b[0m\n\u001b[1;32m   1889\u001b[0m         \u001b[0mkwds\u001b[0m\u001b[0;34m[\u001b[0m\u001b[0;34m\"usecols\"\u001b[0m\u001b[0;34m]\u001b[0m \u001b[0;34m=\u001b[0m \u001b[0mself\u001b[0m\u001b[0;34m.\u001b[0m\u001b[0musecols\u001b[0m\u001b[0;34m\u001b[0m\u001b[0;34m\u001b[0m\u001b[0m\n\u001b[1;32m   1890\u001b[0m \u001b[0;34m\u001b[0m\u001b[0m\n\u001b[0;32m-> 1891\u001b[0;31m         \u001b[0mself\u001b[0m\u001b[0;34m.\u001b[0m\u001b[0m_reader\u001b[0m \u001b[0;34m=\u001b[0m \u001b[0mparsers\u001b[0m\u001b[0;34m.\u001b[0m\u001b[0mTextReader\u001b[0m\u001b[0;34m(\u001b[0m\u001b[0msrc\u001b[0m\u001b[0;34m,\u001b[0m \u001b[0;34m**\u001b[0m\u001b[0mkwds\u001b[0m\u001b[0;34m)\u001b[0m\u001b[0;34m\u001b[0m\u001b[0;34m\u001b[0m\u001b[0m\n\u001b[0m\u001b[1;32m   1892\u001b[0m         \u001b[0mself\u001b[0m\u001b[0;34m.\u001b[0m\u001b[0munnamed_cols\u001b[0m \u001b[0;34m=\u001b[0m \u001b[0mself\u001b[0m\u001b[0;34m.\u001b[0m\u001b[0m_reader\u001b[0m\u001b[0;34m.\u001b[0m\u001b[0munnamed_cols\u001b[0m\u001b[0;34m\u001b[0m\u001b[0;34m\u001b[0m\u001b[0m\n\u001b[1;32m   1893\u001b[0m \u001b[0;34m\u001b[0m\u001b[0m\n",
            "\u001b[0;32mpandas/_libs/parsers.pyx\u001b[0m in \u001b[0;36mpandas._libs.parsers.TextReader.__cinit__\u001b[0;34m()\u001b[0m\n",
            "\u001b[0;32mpandas/_libs/parsers.pyx\u001b[0m in \u001b[0;36mpandas._libs.parsers.TextReader._setup_parser_source\u001b[0;34m()\u001b[0m\n",
            "\u001b[0;31mFileNotFoundError\u001b[0m: [Errno 2] File drive/My Drive/sba-experiment/datadata/7a_FOIA_Data_Dictionary.csv does not exist: 'drive/My Drive/sba-experiment/datadata/7a_FOIA_Data_Dictionary.csv'"
          ]
        }
      ]
    },
    {
      "cell_type": "markdown",
      "metadata": {
        "id": "Aly36NiuU3EF",
        "colab_type": "text"
      },
      "source": [
        "# 0. Overall observations"
      ]
    },
    {
      "cell_type": "code",
      "metadata": {
        "id": "muWVv0z2KC7_",
        "colab_type": "code",
        "outputId": "20948b9d-78b1-4806-e192-7529c939ffd0",
        "colab": {
          "base_uri": "https://localhost:8080/",
          "height": 35
        }
      },
      "source": [
        "# Number of unique businesses in list (by name)\n",
        "len(lend_df.BorrName.unique())"
      ],
      "execution_count": 15,
      "outputs": [
        {
          "output_type": "execute_result",
          "data": {
            "text/plain": [
              "986999"
            ]
          },
          "metadata": {
            "tags": []
          },
          "execution_count": 15
        }
      ]
    },
    {
      "cell_type": "code",
      "metadata": {
        "id": "5KJqIK0gKC78",
        "colab_type": "code",
        "outputId": "f07e13b4-7fa2-42fb-f8f7-569a0cad4b88",
        "colab": {
          "base_uri": "https://localhost:8080/",
          "height": 35
        }
      },
      "source": [
        "# Number of busiensses that have more than one loan\n",
        "len(lend_df[lend_df.duplicated('BorrName',keep=False)])"
      ],
      "execution_count": 16,
      "outputs": [
        {
          "output_type": "execute_result",
          "data": {
            "text/plain": [
              "349767"
            ]
          },
          "metadata": {
            "tags": []
          },
          "execution_count": 16
        }
      ]
    },
    {
      "cell_type": "markdown",
      "metadata": {
        "id": "KLiAtvDTKC8L",
        "colab_type": "text"
      },
      "source": [
        "# 1. Filtering companies using location, lending amts, headcount, etc."
      ]
    },
    {
      "cell_type": "markdown",
      "metadata": {
        "id": "Wfgth4GBKC8O",
        "colab_type": "text"
      },
      "source": [
        "# 2. How do interest rates, volume, etc. differ by groupings"
      ]
    },
    {
      "cell_type": "code",
      "metadata": {
        "id": "nJbCwmVsKC8P",
        "colab_type": "code",
        "colab": {}
      },
      "source": [
        "import scipy.stats as stats"
      ],
      "execution_count": 0,
      "outputs": []
    },
    {
      "cell_type": "code",
      "metadata": {
        "id": "ObsJobMTKC8R",
        "colab_type": "code",
        "colab": {}
      },
      "source": [
        "def percentile(n):\n",
        "    def percentile_(x):\n",
        "        return x.quantile(n)\n",
        "    percentile_.__name__ = 'percentile_{:2.0f}'.format(n*100)\n",
        "    return percentile_"
      ],
      "execution_count": 0,
      "outputs": []
    },
    {
      "cell_type": "markdown",
      "metadata": {
        "id": "EFHeZcHIKC8U",
        "colab_type": "text"
      },
      "source": [
        "## Interest rates - NAICS"
      ]
    },
    {
      "cell_type": "code",
      "metadata": {
        "id": "HnVK9Se5KC8V",
        "colab_type": "code",
        "colab": {}
      },
      "source": [
        "interest_df = lend_df[~lend_df[\"InitialInterestRate\"].isnull()][['BorrName', 'InitialInterestRate', 'ApprovalDate', 'FirstDisbursementDate', 'code', 'desc']]"
      ],
      "execution_count": 0,
      "outputs": []
    },
    {
      "cell_type": "code",
      "metadata": {
        "id": "sGmZVLFiKC8X",
        "colab_type": "code",
        "colab": {}
      },
      "source": [
        "interest_group = interest_df[['desc', 'code', 'InitialInterestRate']].groupby(['desc','code'], as_index=False).agg(\n",
        "                      {'InitialInterestRate':['mean','std', 'min', 'max', 'median', percentile(0.25), percentile(0.75),'count']})"
      ],
      "execution_count": 0,
      "outputs": []
    },
    {
      "cell_type": "code",
      "metadata": {
        "id": "kkDL7aRHKC8a",
        "colab_type": "code",
        "outputId": "1a9a530e-bc6a-4a3b-9f30-1f3f48589168",
        "colab": {}
      },
      "source": [
        "interest_group[interest_group[('InitialInterestRate','count')] > 50].sort_values([('InitialInterestRate','mean')])"
      ],
      "execution_count": 0,
      "outputs": [
        {
          "output_type": "execute_result",
          "data": {
            "text/html": [
              "<div>\n",
              "<style scoped>\n",
              "    .dataframe tbody tr th:only-of-type {\n",
              "        vertical-align: middle;\n",
              "    }\n",
              "\n",
              "    .dataframe tbody tr th {\n",
              "        vertical-align: top;\n",
              "    }\n",
              "\n",
              "    .dataframe thead tr th {\n",
              "        text-align: left;\n",
              "    }\n",
              "</style>\n",
              "<table border=\"1\" class=\"dataframe\">\n",
              "  <thead>\n",
              "    <tr>\n",
              "      <th></th>\n",
              "      <th>desc</th>\n",
              "      <th>code</th>\n",
              "      <th colspan=\"8\" halign=\"left\">InitialInterestRate</th>\n",
              "    </tr>\n",
              "    <tr>\n",
              "      <th></th>\n",
              "      <th></th>\n",
              "      <th></th>\n",
              "      <th>mean</th>\n",
              "      <th>std</th>\n",
              "      <th>min</th>\n",
              "      <th>max</th>\n",
              "      <th>median</th>\n",
              "      <th>percentile_25</th>\n",
              "      <th>percentile_75</th>\n",
              "      <th>count</th>\n",
              "    </tr>\n",
              "  </thead>\n",
              "  <tbody>\n",
              "    <tr>\n",
              "      <th>800</th>\n",
              "      <td>Private Households</td>\n",
              "      <td>814110</td>\n",
              "      <td>5.5360</td>\n",
              "      <td>0.8624</td>\n",
              "      <td>2.1000</td>\n",
              "      <td>9.7500</td>\n",
              "      <td>5.5000</td>\n",
              "      <td>4.9500</td>\n",
              "      <td>6.0000</td>\n",
              "      <td>126</td>\n",
              "    </tr>\n",
              "    <tr>\n",
              "      <th>208</th>\n",
              "      <td>Conveyor and Conveying Equipment Manufacturing</td>\n",
              "      <td>333922</td>\n",
              "      <td>5.6085</td>\n",
              "      <td>1.3252</td>\n",
              "      <td>2.7500</td>\n",
              "      <td>9.7500</td>\n",
              "      <td>5.5000</td>\n",
              "      <td>4.7500</td>\n",
              "      <td>6.5000</td>\n",
              "      <td>72</td>\n",
              "    </tr>\n",
              "    <tr>\n",
              "      <th>722</th>\n",
              "      <td>Packaging Machinery Manufacturing</td>\n",
              "      <td>333993</td>\n",
              "      <td>5.6737</td>\n",
              "      <td>1.5011</td>\n",
              "      <td>2.7500</td>\n",
              "      <td>9.7500</td>\n",
              "      <td>5.5000</td>\n",
              "      <td>4.9425</td>\n",
              "      <td>6.2500</td>\n",
              "      <td>60</td>\n",
              "    </tr>\n",
              "    <tr>\n",
              "      <th>918</th>\n",
              "      <td>Special Die and Tool, Die Set, Jig, and Fixture Manufacturing</td>\n",
              "      <td>333514</td>\n",
              "      <td>5.6933</td>\n",
              "      <td>1.2343</td>\n",
              "      <td>0.0000</td>\n",
              "      <td>11.1300</td>\n",
              "      <td>5.7300</td>\n",
              "      <td>5.0000</td>\n",
              "      <td>6.1300</td>\n",
              "      <td>261</td>\n",
              "    </tr>\n",
              "    <tr>\n",
              "      <th>299</th>\n",
              "      <td>Fabricated Pipe and Pipe Fitting Manufacturing</td>\n",
              "      <td>332996</td>\n",
              "      <td>5.6968</td>\n",
              "      <td>1.2940</td>\n",
              "      <td>3.5000</td>\n",
              "      <td>11.2500</td>\n",
              "      <td>5.5000</td>\n",
              "      <td>4.7500</td>\n",
              "      <td>6.1500</td>\n",
              "      <td>66</td>\n",
              "    </tr>\n",
              "    <tr>\n",
              "      <th>...</th>\n",
              "      <td>...</td>\n",
              "      <td>...</td>\n",
              "      <td>...</td>\n",
              "      <td>...</td>\n",
              "      <td>...</td>\n",
              "      <td>...</td>\n",
              "      <td>...</td>\n",
              "      <td>...</td>\n",
              "      <td>...</td>\n",
              "      <td>...</td>\n",
              "    </tr>\n",
              "    <tr>\n",
              "      <th>25</th>\n",
              "      <td>All Other General Merchandise Stores</td>\n",
              "      <td>452319</td>\n",
              "      <td>7.5855</td>\n",
              "      <td>1.6929</td>\n",
              "      <td>4.4000</td>\n",
              "      <td>12.0000</td>\n",
              "      <td>7.0000</td>\n",
              "      <td>6.5000</td>\n",
              "      <td>8.2500</td>\n",
              "      <td>131</td>\n",
              "    </tr>\n",
              "    <tr>\n",
              "      <th>1026</th>\n",
              "      <td>Wireless Telecommunications Carriers (except Satellite)</td>\n",
              "      <td>517312</td>\n",
              "      <td>7.6020</td>\n",
              "      <td>1.4701</td>\n",
              "      <td>5.2500</td>\n",
              "      <td>11.5000</td>\n",
              "      <td>7.2500</td>\n",
              "      <td>6.7500</td>\n",
              "      <td>8.2500</td>\n",
              "      <td>65</td>\n",
              "    </tr>\n",
              "    <tr>\n",
              "      <th>60</th>\n",
              "      <td>All Other Support Activities for Transportation</td>\n",
              "      <td>488999</td>\n",
              "      <td>7.6093</td>\n",
              "      <td>1.8680</td>\n",
              "      <td>2.7500</td>\n",
              "      <td>13.5000</td>\n",
              "      <td>7.6000</td>\n",
              "      <td>6.0000</td>\n",
              "      <td>9.0500</td>\n",
              "      <td>478</td>\n",
              "    </tr>\n",
              "    <tr>\n",
              "      <th>557</th>\n",
              "      <td>Musical Groups and Artists</td>\n",
              "      <td>711130</td>\n",
              "      <td>7.8787</td>\n",
              "      <td>1.6635</td>\n",
              "      <td>5.0000</td>\n",
              "      <td>12.0000</td>\n",
              "      <td>7.7500</td>\n",
              "      <td>6.4500</td>\n",
              "      <td>9.1500</td>\n",
              "      <td>140</td>\n",
              "    </tr>\n",
              "    <tr>\n",
              "      <th>282</th>\n",
              "      <td>Electronic Shopping and Mail-Order Houses</td>\n",
              "      <td>454110</td>\n",
              "      <td>8.7494</td>\n",
              "      <td>1.8594</td>\n",
              "      <td>1.9900</td>\n",
              "      <td>12.0000</td>\n",
              "      <td>8.7400</td>\n",
              "      <td>7.5000</td>\n",
              "      <td>10.3800</td>\n",
              "      <td>3375</td>\n",
              "    </tr>\n",
              "  </tbody>\n",
              "</table>\n",
              "<p>651 rows × 10 columns</p>\n",
              "</div>"
            ],
            "text/plain": [
              "                                                               desc    code  \\\n",
              "                                                                              \n",
              "800                                              Private Households  814110   \n",
              "208                  Conveyor and Conveying Equipment Manufacturing  333922   \n",
              "722                               Packaging Machinery Manufacturing  333993   \n",
              "918   Special Die and Tool, Die Set, Jig, and Fixture Manufacturing  333514   \n",
              "299                  Fabricated Pipe and Pipe Fitting Manufacturing  332996   \n",
              "...                                                             ...     ...   \n",
              "25                             All Other General Merchandise Stores  452319   \n",
              "1026        Wireless Telecommunications Carriers (except Satellite)  517312   \n",
              "60                  All Other Support Activities for Transportation  488999   \n",
              "557                                      Musical Groups and Artists  711130   \n",
              "282                       Electronic Shopping and Mail-Order Houses  454110   \n",
              "\n",
              "     InitialInterestRate                                             \\\n",
              "                    mean    std    min     max median percentile_25   \n",
              "800               5.5360 0.8624 2.1000  9.7500 5.5000        4.9500   \n",
              "208               5.6085 1.3252 2.7500  9.7500 5.5000        4.7500   \n",
              "722               5.6737 1.5011 2.7500  9.7500 5.5000        4.9425   \n",
              "918               5.6933 1.2343 0.0000 11.1300 5.7300        5.0000   \n",
              "299               5.6968 1.2940 3.5000 11.2500 5.5000        4.7500   \n",
              "...                  ...    ...    ...     ...    ...           ...   \n",
              "25                7.5855 1.6929 4.4000 12.0000 7.0000        6.5000   \n",
              "1026              7.6020 1.4701 5.2500 11.5000 7.2500        6.7500   \n",
              "60                7.6093 1.8680 2.7500 13.5000 7.6000        6.0000   \n",
              "557               7.8787 1.6635 5.0000 12.0000 7.7500        6.4500   \n",
              "282               8.7494 1.8594 1.9900 12.0000 8.7400        7.5000   \n",
              "\n",
              "                          \n",
              "     percentile_75 count  \n",
              "800         6.0000   126  \n",
              "208         6.5000    72  \n",
              "722         6.2500    60  \n",
              "918         6.1300   261  \n",
              "299         6.1500    66  \n",
              "...            ...   ...  \n",
              "25          8.2500   131  \n",
              "1026        8.2500    65  \n",
              "60          9.0500   478  \n",
              "557         9.1500   140  \n",
              "282        10.3800  3375  \n",
              "\n",
              "[651 rows x 10 columns]"
            ]
          },
          "metadata": {
            "tags": []
          },
          "execution_count": 43
        }
      ]
    },
    {
      "cell_type": "code",
      "metadata": {
        "id": "bLhh_NIWKC8d",
        "colab_type": "code",
        "colab": {}
      },
      "source": [
        "# Save to CSV\n",
        "interest_group[interest_group[('InitialInterestRate','count')] > 50].sort_values([('InitialInterestRate','mean')]).to_csv('interest_summ_by_group.csv')"
      ],
      "execution_count": 0,
      "outputs": []
    },
    {
      "cell_type": "markdown",
      "metadata": {
        "id": "Jb1AgX3-KC8f",
        "colab_type": "text"
      },
      "source": [
        "## Interest rates - Lender"
      ]
    },
    {
      "cell_type": "code",
      "metadata": {
        "id": "0lBCjagcKC8f",
        "colab_type": "code",
        "colab": {}
      },
      "source": [
        "interest_df = lend_df[~lend_df[\"InitialInterestRate\"].isnull()][['InitialInterestRate', 'BankName']]"
      ],
      "execution_count": 0,
      "outputs": []
    },
    {
      "cell_type": "code",
      "metadata": {
        "id": "FaguC2dbKC8i",
        "colab_type": "code",
        "colab": {}
      },
      "source": [
        "interest_group = interest_df[['BankName', 'InitialInterestRate']].groupby(['BankName'], as_index=False).agg(\n",
        "                      {'InitialInterestRate':['mean','std', 'min', 'max', 'median', percentile(0.25), percentile(0.75),'count']})"
      ],
      "execution_count": 0,
      "outputs": []
    },
    {
      "cell_type": "code",
      "metadata": {
        "id": "zwg1Rb9GKC8k",
        "colab_type": "code",
        "outputId": "5ce8f82f-6f9d-41bf-f121-0e840bad77c7",
        "colab": {}
      },
      "source": [
        "interest_group[interest_group[('InitialInterestRate','count')] > 50].sort_values([('InitialInterestRate','mean')])"
      ],
      "execution_count": 0,
      "outputs": [
        {
          "output_type": "execute_result",
          "data": {
            "text/html": [
              "<div>\n",
              "<style scoped>\n",
              "    .dataframe tbody tr th:only-of-type {\n",
              "        vertical-align: middle;\n",
              "    }\n",
              "\n",
              "    .dataframe tbody tr th {\n",
              "        vertical-align: top;\n",
              "    }\n",
              "\n",
              "    .dataframe thead tr th {\n",
              "        text-align: left;\n",
              "    }\n",
              "</style>\n",
              "<table border=\"1\" class=\"dataframe\">\n",
              "  <thead>\n",
              "    <tr>\n",
              "      <th></th>\n",
              "      <th>BankName</th>\n",
              "      <th colspan=\"8\" halign=\"left\">InitialInterestRate</th>\n",
              "    </tr>\n",
              "    <tr>\n",
              "      <th></th>\n",
              "      <th></th>\n",
              "      <th>mean</th>\n",
              "      <th>std</th>\n",
              "      <th>min</th>\n",
              "      <th>max</th>\n",
              "      <th>median</th>\n",
              "      <th>percentile_25</th>\n",
              "      <th>percentile_75</th>\n",
              "      <th>count</th>\n",
              "    </tr>\n",
              "  </thead>\n",
              "  <tbody>\n",
              "    <tr>\n",
              "      <th>1706</th>\n",
              "      <td>Landmark CU</td>\n",
              "      <td>4.3279</td>\n",
              "      <td>0.8118</td>\n",
              "      <td>1.9900</td>\n",
              "      <td>6.5000</td>\n",
              "      <td>4.2500</td>\n",
              "      <td>4.0000</td>\n",
              "      <td>4.5975</td>\n",
              "      <td>58</td>\n",
              "    </tr>\n",
              "    <tr>\n",
              "      <th>1491</th>\n",
              "      <td>HawaiiUSA FCU</td>\n",
              "      <td>4.5571</td>\n",
              "      <td>1.0629</td>\n",
              "      <td>2.2500</td>\n",
              "      <td>6.7500</td>\n",
              "      <td>5.2500</td>\n",
              "      <td>3.0000</td>\n",
              "      <td>5.2500</td>\n",
              "      <td>302</td>\n",
              "    </tr>\n",
              "    <tr>\n",
              "      <th>2554</th>\n",
              "      <td>St. Mary's Bank</td>\n",
              "      <td>4.6226</td>\n",
              "      <td>1.2139</td>\n",
              "      <td>2.9900</td>\n",
              "      <td>8.0000</td>\n",
              "      <td>4.2500</td>\n",
              "      <td>3.9900</td>\n",
              "      <td>5.2500</td>\n",
              "      <td>176</td>\n",
              "    </tr>\n",
              "    <tr>\n",
              "      <th>206</th>\n",
              "      <td>BIZCapital BIDCO II, LLC</td>\n",
              "      <td>4.7294</td>\n",
              "      <td>0.7197</td>\n",
              "      <td>3.2500</td>\n",
              "      <td>6.2500</td>\n",
              "      <td>4.7600</td>\n",
              "      <td>4.1100</td>\n",
              "      <td>5.2450</td>\n",
              "      <td>51</td>\n",
              "    </tr>\n",
              "    <tr>\n",
              "      <th>1459</th>\n",
              "      <td>Grow America Fund, Incorporated</td>\n",
              "      <td>4.7336</td>\n",
              "      <td>1.5903</td>\n",
              "      <td>1.0000</td>\n",
              "      <td>9.0000</td>\n",
              "      <td>4.7500</td>\n",
              "      <td>3.7500</td>\n",
              "      <td>5.7600</td>\n",
              "      <td>305</td>\n",
              "    </tr>\n",
              "    <tr>\n",
              "      <th>...</th>\n",
              "      <td>...</td>\n",
              "      <td>...</td>\n",
              "      <td>...</td>\n",
              "      <td>...</td>\n",
              "      <td>...</td>\n",
              "      <td>...</td>\n",
              "      <td>...</td>\n",
              "      <td>...</td>\n",
              "      <td>...</td>\n",
              "    </tr>\n",
              "    <tr>\n",
              "      <th>692</th>\n",
              "      <td>Colorado Lending Source, Ltd.</td>\n",
              "      <td>9.0061</td>\n",
              "      <td>0.7597</td>\n",
              "      <td>4.7500</td>\n",
              "      <td>10.0000</td>\n",
              "      <td>9.0000</td>\n",
              "      <td>8.5000</td>\n",
              "      <td>9.6875</td>\n",
              "      <td>82</td>\n",
              "    </tr>\n",
              "    <tr>\n",
              "      <th>817</th>\n",
              "      <td>Craft3</td>\n",
              "      <td>9.2754</td>\n",
              "      <td>0.7365</td>\n",
              "      <td>6.0000</td>\n",
              "      <td>11.0000</td>\n",
              "      <td>9.2500</td>\n",
              "      <td>9.2500</td>\n",
              "      <td>9.5000</td>\n",
              "      <td>59</td>\n",
              "    </tr>\n",
              "    <tr>\n",
              "      <th>421</th>\n",
              "      <td>Brooklyn Cooperative FCU</td>\n",
              "      <td>9.5588</td>\n",
              "      <td>1.3081</td>\n",
              "      <td>5.5000</td>\n",
              "      <td>12.0000</td>\n",
              "      <td>9.7500</td>\n",
              "      <td>9.0000</td>\n",
              "      <td>9.7500</td>\n",
              "      <td>276</td>\n",
              "    </tr>\n",
              "    <tr>\n",
              "      <th>41</th>\n",
              "      <td>Accion</td>\n",
              "      <td>9.6293</td>\n",
              "      <td>0.8524</td>\n",
              "      <td>5.5000</td>\n",
              "      <td>11.5000</td>\n",
              "      <td>9.5000</td>\n",
              "      <td>9.2500</td>\n",
              "      <td>10.0000</td>\n",
              "      <td>116</td>\n",
              "    </tr>\n",
              "    <tr>\n",
              "      <th>216</th>\n",
              "      <td>BSD Capital, LLC dba Lendistry</td>\n",
              "      <td>10.1457</td>\n",
              "      <td>0.5419</td>\n",
              "      <td>8.2500</td>\n",
              "      <td>11.2500</td>\n",
              "      <td>10.0000</td>\n",
              "      <td>9.7500</td>\n",
              "      <td>10.5000</td>\n",
              "      <td>151</td>\n",
              "    </tr>\n",
              "  </tbody>\n",
              "</table>\n",
              "<p>894 rows × 9 columns</p>\n",
              "</div>"
            ],
            "text/plain": [
              "                             BankName InitialInterestRate                \\\n",
              "                                                     mean    std    min   \n",
              "1706                      Landmark CU              4.3279 0.8118 1.9900   \n",
              "1491                    HawaiiUSA FCU              4.5571 1.0629 2.2500   \n",
              "2554                  St. Mary's Bank              4.6226 1.2139 2.9900   \n",
              "206          BIZCapital BIDCO II, LLC              4.7294 0.7197 3.2500   \n",
              "1459  Grow America Fund, Incorporated              4.7336 1.5903 1.0000   \n",
              "...                               ...                 ...    ...    ...   \n",
              "692     Colorado Lending Source, Ltd.              9.0061 0.7597 4.7500   \n",
              "817                            Craft3              9.2754 0.7365 6.0000   \n",
              "421          Brooklyn Cooperative FCU              9.5588 1.3081 5.5000   \n",
              "41                             Accion              9.6293 0.8524 5.5000   \n",
              "216    BSD Capital, LLC dba Lendistry             10.1457 0.5419 8.2500   \n",
              "\n",
              "                                                        \n",
              "         max  median percentile_25 percentile_75 count  \n",
              "1706  6.5000  4.2500        4.0000        4.5975    58  \n",
              "1491  6.7500  5.2500        3.0000        5.2500   302  \n",
              "2554  8.0000  4.2500        3.9900        5.2500   176  \n",
              "206   6.2500  4.7600        4.1100        5.2450    51  \n",
              "1459  9.0000  4.7500        3.7500        5.7600   305  \n",
              "...      ...     ...           ...           ...   ...  \n",
              "692  10.0000  9.0000        8.5000        9.6875    82  \n",
              "817  11.0000  9.2500        9.2500        9.5000    59  \n",
              "421  12.0000  9.7500        9.0000        9.7500   276  \n",
              "41   11.5000  9.5000        9.2500       10.0000   116  \n",
              "216  11.2500 10.0000        9.7500       10.5000   151  \n",
              "\n",
              "[894 rows x 9 columns]"
            ]
          },
          "metadata": {
            "tags": []
          },
          "execution_count": 59
        }
      ]
    },
    {
      "cell_type": "code",
      "metadata": {
        "id": "KHrt36yJKC8n",
        "colab_type": "code",
        "colab": {}
      },
      "source": [
        "# Save to CSV\n",
        "interest_group[interest_group[('InitialInterestRate','count')] > 50].sort_values([('InitialInterestRate','mean')]).to_csv('interest_summ_by_lender.csv')"
      ],
      "execution_count": 0,
      "outputs": []
    },
    {
      "cell_type": "markdown",
      "metadata": {
        "id": "GK-jcBeXKC8q",
        "colab_type": "text"
      },
      "source": [
        "## Interest rates - Term"
      ]
    },
    {
      "cell_type": "code",
      "metadata": {
        "id": "HEJQzCw0KC8q",
        "colab_type": "code",
        "colab": {}
      },
      "source": [
        "interest_df = lend_df[~lend_df[\"InitialInterestRate\"].isnull()][['InitialInterestRate', 'TermInMonths']]"
      ],
      "execution_count": 0,
      "outputs": []
    },
    {
      "cell_type": "code",
      "metadata": {
        "id": "V-yqJz9mKC8u",
        "colab_type": "code",
        "colab": {}
      },
      "source": [
        "interest_group = interest_df[['TermInMonths', 'InitialInterestRate']].groupby(['TermInMonths'], as_index=False).agg(\n",
        "                      {'InitialInterestRate':['mean','std', 'min', 'max', 'median', percentile(0.25), percentile(0.75),'count']})"
      ],
      "execution_count": 0,
      "outputs": []
    },
    {
      "cell_type": "code",
      "metadata": {
        "id": "CeC8SmteKC8x",
        "colab_type": "code",
        "outputId": "85239cf3-48ad-45f9-9a3a-a75dd3024249",
        "colab": {}
      },
      "source": [
        "interest_group.sort_values([('InitialInterestRate','mean')])"
      ],
      "execution_count": 0,
      "outputs": [
        {
          "output_type": "execute_result",
          "data": {
            "text/html": [
              "<div>\n",
              "<style scoped>\n",
              "    .dataframe tbody tr th:only-of-type {\n",
              "        vertical-align: middle;\n",
              "    }\n",
              "\n",
              "    .dataframe tbody tr th {\n",
              "        vertical-align: top;\n",
              "    }\n",
              "\n",
              "    .dataframe thead tr th {\n",
              "        text-align: left;\n",
              "    }\n",
              "</style>\n",
              "<table border=\"1\" class=\"dataframe\">\n",
              "  <thead>\n",
              "    <tr>\n",
              "      <th></th>\n",
              "      <th>TermInMonths</th>\n",
              "      <th colspan=\"8\" halign=\"left\">InitialInterestRate</th>\n",
              "    </tr>\n",
              "    <tr>\n",
              "      <th></th>\n",
              "      <th></th>\n",
              "      <th>mean</th>\n",
              "      <th>std</th>\n",
              "      <th>min</th>\n",
              "      <th>max</th>\n",
              "      <th>median</th>\n",
              "      <th>percentile_25</th>\n",
              "      <th>percentile_75</th>\n",
              "      <th>count</th>\n",
              "    </tr>\n",
              "  </thead>\n",
              "  <tbody>\n",
              "    <tr>\n",
              "      <th>331</th>\n",
              "      <td>377</td>\n",
              "      <td>3.1800</td>\n",
              "      <td>nan</td>\n",
              "      <td>3.1800</td>\n",
              "      <td>3.1800</td>\n",
              "      <td>3.1800</td>\n",
              "      <td>3.1800</td>\n",
              "      <td>3.1800</td>\n",
              "      <td>1</td>\n",
              "    </tr>\n",
              "    <tr>\n",
              "      <th>333</th>\n",
              "      <td>847</td>\n",
              "      <td>4.5000</td>\n",
              "      <td>nan</td>\n",
              "      <td>4.5000</td>\n",
              "      <td>4.5000</td>\n",
              "      <td>4.5000</td>\n",
              "      <td>4.5000</td>\n",
              "      <td>4.5000</td>\n",
              "      <td>1</td>\n",
              "    </tr>\n",
              "    <tr>\n",
              "      <th>332</th>\n",
              "      <td>720</td>\n",
              "      <td>4.7500</td>\n",
              "      <td>nan</td>\n",
              "      <td>4.7500</td>\n",
              "      <td>4.7500</td>\n",
              "      <td>4.7500</td>\n",
              "      <td>4.7500</td>\n",
              "      <td>4.7500</td>\n",
              "      <td>1</td>\n",
              "    </tr>\n",
              "    <tr>\n",
              "      <th>326</th>\n",
              "      <td>328</td>\n",
              "      <td>5.1250</td>\n",
              "      <td>1.2374</td>\n",
              "      <td>4.2500</td>\n",
              "      <td>6.0000</td>\n",
              "      <td>5.1250</td>\n",
              "      <td>4.6875</td>\n",
              "      <td>5.5625</td>\n",
              "      <td>2</td>\n",
              "    </tr>\n",
              "    <tr>\n",
              "      <th>327</th>\n",
              "      <td>332</td>\n",
              "      <td>5.2500</td>\n",
              "      <td>nan</td>\n",
              "      <td>5.2500</td>\n",
              "      <td>5.2500</td>\n",
              "      <td>5.2500</td>\n",
              "      <td>5.2500</td>\n",
              "      <td>5.2500</td>\n",
              "      <td>1</td>\n",
              "    </tr>\n",
              "    <tr>\n",
              "      <th>...</th>\n",
              "      <td>...</td>\n",
              "      <td>...</td>\n",
              "      <td>...</td>\n",
              "      <td>...</td>\n",
              "      <td>...</td>\n",
              "      <td>...</td>\n",
              "      <td>...</td>\n",
              "      <td>...</td>\n",
              "      <td>...</td>\n",
              "    </tr>\n",
              "    <tr>\n",
              "      <th>55</th>\n",
              "      <td>55</td>\n",
              "      <td>7.0225</td>\n",
              "      <td>1.7668</td>\n",
              "      <td>2.5000</td>\n",
              "      <td>11.7400</td>\n",
              "      <td>6.7500</td>\n",
              "      <td>5.7500</td>\n",
              "      <td>8.2500</td>\n",
              "      <td>376</td>\n",
              "    </tr>\n",
              "    <tr>\n",
              "      <th>68</th>\n",
              "      <td>68</td>\n",
              "      <td>7.0456</td>\n",
              "      <td>1.7098</td>\n",
              "      <td>3.2500</td>\n",
              "      <td>11.5000</td>\n",
              "      <td>6.5000</td>\n",
              "      <td>5.9000</td>\n",
              "      <td>8.2400</td>\n",
              "      <td>469</td>\n",
              "    </tr>\n",
              "    <tr>\n",
              "      <th>84</th>\n",
              "      <td>84</td>\n",
              "      <td>7.0551</td>\n",
              "      <td>1.7232</td>\n",
              "      <td>0.0000</td>\n",
              "      <td>12.0000</td>\n",
              "      <td>6.7500</td>\n",
              "      <td>5.7500</td>\n",
              "      <td>8.3500</td>\n",
              "      <td>161068</td>\n",
              "    </tr>\n",
              "    <tr>\n",
              "      <th>70</th>\n",
              "      <td>70</td>\n",
              "      <td>7.0811</td>\n",
              "      <td>1.7119</td>\n",
              "      <td>1.5000</td>\n",
              "      <td>12.0000</td>\n",
              "      <td>6.7500</td>\n",
              "      <td>6.0000</td>\n",
              "      <td>8.0000</td>\n",
              "      <td>465</td>\n",
              "    </tr>\n",
              "    <tr>\n",
              "      <th>67</th>\n",
              "      <td>67</td>\n",
              "      <td>7.0899</td>\n",
              "      <td>1.7319</td>\n",
              "      <td>2.5000</td>\n",
              "      <td>11.5000</td>\n",
              "      <td>6.7500</td>\n",
              "      <td>5.7500</td>\n",
              "      <td>8.4500</td>\n",
              "      <td>461</td>\n",
              "    </tr>\n",
              "  </tbody>\n",
              "</table>\n",
              "<p>334 rows × 9 columns</p>\n",
              "</div>"
            ],
            "text/plain": [
              "    TermInMonths InitialInterestRate                               \\\n",
              "                                mean    std    min     max median   \n",
              "331          377              3.1800    nan 3.1800  3.1800 3.1800   \n",
              "333          847              4.5000    nan 4.5000  4.5000 4.5000   \n",
              "332          720              4.7500    nan 4.7500  4.7500 4.7500   \n",
              "326          328              5.1250 1.2374 4.2500  6.0000 5.1250   \n",
              "327          332              5.2500    nan 5.2500  5.2500 5.2500   \n",
              "..           ...                 ...    ...    ...     ...    ...   \n",
              "55            55              7.0225 1.7668 2.5000 11.7400 6.7500   \n",
              "68            68              7.0456 1.7098 3.2500 11.5000 6.5000   \n",
              "84            84              7.0551 1.7232 0.0000 12.0000 6.7500   \n",
              "70            70              7.0811 1.7119 1.5000 12.0000 6.7500   \n",
              "67            67              7.0899 1.7319 2.5000 11.5000 6.7500   \n",
              "\n",
              "                                         \n",
              "    percentile_25 percentile_75   count  \n",
              "331        3.1800        3.1800       1  \n",
              "333        4.5000        4.5000       1  \n",
              "332        4.7500        4.7500       1  \n",
              "326        4.6875        5.5625       2  \n",
              "327        5.2500        5.2500       1  \n",
              "..            ...           ...     ...  \n",
              "55         5.7500        8.2500     376  \n",
              "68         5.9000        8.2400     469  \n",
              "84         5.7500        8.3500  161068  \n",
              "70         6.0000        8.0000     465  \n",
              "67         5.7500        8.4500     461  \n",
              "\n",
              "[334 rows x 9 columns]"
            ]
          },
          "metadata": {
            "tags": []
          },
          "execution_count": 83
        }
      ]
    },
    {
      "cell_type": "code",
      "metadata": {
        "id": "SRcoLPK4KC80",
        "colab_type": "code",
        "colab": {}
      },
      "source": [
        "# Save to CSV\n",
        "interest_group.sort_values([('InitialInterestRate','mean')]).sort_values([('InitialInterestRate','mean')]).to_csv('interest_summ_by_term.csv')"
      ],
      "execution_count": 0,
      "outputs": []
    },
    {
      "cell_type": "markdown",
      "metadata": {
        "id": "BRS-ITybKC85",
        "colab_type": "text"
      },
      "source": [
        "## Volume - NAICS"
      ]
    },
    {
      "cell_type": "code",
      "metadata": {
        "id": "Jyml5KnoKC86",
        "colab_type": "code",
        "colab": {}
      },
      "source": [
        "amount_df = lend_df[~lend_df[\"GrossApproval\"].isnull()][['BorrName', 'GrossApproval', 'ApprovalDate', 'FirstDisbursementDate', 'code', 'desc']]"
      ],
      "execution_count": 0,
      "outputs": []
    },
    {
      "cell_type": "code",
      "metadata": {
        "id": "bMMT0JkRKC89",
        "colab_type": "code",
        "colab": {}
      },
      "source": [
        "amount_group = amount_df[['desc', 'code', 'GrossApproval']].groupby(['desc','code'], as_index=False).agg(\n",
        "                      {'GrossApproval':['mean','std', 'min', 'max', 'median', percentile(0.25), percentile(0.75),'count']})"
      ],
      "execution_count": 0,
      "outputs": []
    },
    {
      "cell_type": "code",
      "metadata": {
        "scrolled": false,
        "id": "N659zuGYKC9A",
        "colab_type": "code",
        "outputId": "d76f961a-36bc-4915-db2f-191d4a46e2d7",
        "colab": {}
      },
      "source": [
        "amount_group[amount_group[('GrossApproval','count')] > 50].sort_values([('GrossApproval','mean')])"
      ],
      "execution_count": 0,
      "outputs": [
        {
          "output_type": "execute_result",
          "data": {
            "text/html": [
              "<div>\n",
              "<style scoped>\n",
              "    .dataframe tbody tr th:only-of-type {\n",
              "        vertical-align: middle;\n",
              "    }\n",
              "\n",
              "    .dataframe tbody tr th {\n",
              "        vertical-align: top;\n",
              "    }\n",
              "\n",
              "    .dataframe thead tr th {\n",
              "        text-align: left;\n",
              "    }\n",
              "</style>\n",
              "<table border=\"1\" class=\"dataframe\">\n",
              "  <thead>\n",
              "    <tr>\n",
              "      <th></th>\n",
              "      <th>desc</th>\n",
              "      <th>code</th>\n",
              "      <th colspan=\"8\" halign=\"left\">GrossApproval</th>\n",
              "    </tr>\n",
              "    <tr>\n",
              "      <th></th>\n",
              "      <th></th>\n",
              "      <th></th>\n",
              "      <th>mean</th>\n",
              "      <th>std</th>\n",
              "      <th>min</th>\n",
              "      <th>max</th>\n",
              "      <th>median</th>\n",
              "      <th>percentile_25</th>\n",
              "      <th>percentile_75</th>\n",
              "      <th>count</th>\n",
              "    </tr>\n",
              "  </thead>\n",
              "  <tbody>\n",
              "    <tr>\n",
              "      <th>117</th>\n",
              "      <td>Blood and Organ Banks</td>\n",
              "      <td>621991</td>\n",
              "      <td>34,400.0000</td>\n",
              "      <td>93,216.4088</td>\n",
              "      <td>5000</td>\n",
              "      <td>519000</td>\n",
              "      <td>5,000.0000</td>\n",
              "      <td>5,000.0000</td>\n",
              "      <td>10,000.0000</td>\n",
              "      <td>90</td>\n",
              "    </tr>\n",
              "    <tr>\n",
              "      <th>662</th>\n",
              "      <td>Other Direct Insurance (except Life, Health, and Medical) Carriers</td>\n",
              "      <td>524128</td>\n",
              "      <td>55,988.0415</td>\n",
              "      <td>284,596.6007</td>\n",
              "      <td>5000</td>\n",
              "      <td>5000000</td>\n",
              "      <td>20,000.0000</td>\n",
              "      <td>5,000.0000</td>\n",
              "      <td>35,000.0000</td>\n",
              "      <td>337</td>\n",
              "    </tr>\n",
              "    <tr>\n",
              "      <th>348</th>\n",
              "      <td>Footwear and Leather Goods Repair</td>\n",
              "      <td>811430</td>\n",
              "      <td>63,354.2601</td>\n",
              "      <td>168,807.8140</td>\n",
              "      <td>500</td>\n",
              "      <td>2035000</td>\n",
              "      <td>26,000.0000</td>\n",
              "      <td>12,750.0000</td>\n",
              "      <td>60,050.0000</td>\n",
              "      <td>223</td>\n",
              "    </tr>\n",
              "    <tr>\n",
              "      <th>82</th>\n",
              "      <td>Apprenticeship Training</td>\n",
              "      <td>611513</td>\n",
              "      <td>63,380.6707</td>\n",
              "      <td>187,124.8777</td>\n",
              "      <td>5000</td>\n",
              "      <td>1250000</td>\n",
              "      <td>10,000.0000</td>\n",
              "      <td>5,000.0000</td>\n",
              "      <td>50,000.0000</td>\n",
              "      <td>82</td>\n",
              "    </tr>\n",
              "    <tr>\n",
              "      <th>564</th>\n",
              "      <td>Musical Groups and Artists</td>\n",
              "      <td>711130</td>\n",
              "      <td>73,902.2857</td>\n",
              "      <td>190,123.3163</td>\n",
              "      <td>3000</td>\n",
              "      <td>1625400</td>\n",
              "      <td>25,000.0000</td>\n",
              "      <td>10,000.0000</td>\n",
              "      <td>50,000.0000</td>\n",
              "      <td>350</td>\n",
              "    </tr>\n",
              "    <tr>\n",
              "      <th>...</th>\n",
              "      <td>...</td>\n",
              "      <td>...</td>\n",
              "      <td>...</td>\n",
              "      <td>...</td>\n",
              "      <td>...</td>\n",
              "      <td>...</td>\n",
              "      <td>...</td>\n",
              "      <td>...</td>\n",
              "      <td>...</td>\n",
              "      <td>...</td>\n",
              "    </tr>\n",
              "    <tr>\n",
              "      <th>834</th>\n",
              "      <td>Refrigerated Warehousing and Storage</td>\n",
              "      <td>493120</td>\n",
              "      <td>846,945.3623</td>\n",
              "      <td>1,112,450.5131</td>\n",
              "      <td>1000</td>\n",
              "      <td>4918500</td>\n",
              "      <td>420,050.0000</td>\n",
              "      <td>100,000.0000</td>\n",
              "      <td>1,074,787.5000</td>\n",
              "      <td>138</td>\n",
              "    </tr>\n",
              "    <tr>\n",
              "      <th>89</th>\n",
              "      <td>Assisted Living Facilities for the Elderly</td>\n",
              "      <td>623312</td>\n",
              "      <td>856,064.4105</td>\n",
              "      <td>1,022,772.0658</td>\n",
              "      <td>5000</td>\n",
              "      <td>5000000</td>\n",
              "      <td>520,000.0000</td>\n",
              "      <td>200,000.0000</td>\n",
              "      <td>1,027,500.0000</td>\n",
              "      <td>1732</td>\n",
              "    </tr>\n",
              "    <tr>\n",
              "      <th>387</th>\n",
              "      <td>Grain and Field Bean Merchant Wholesalers</td>\n",
              "      <td>424510</td>\n",
              "      <td>922,709.8971</td>\n",
              "      <td>1,153,501.8282</td>\n",
              "      <td>4800</td>\n",
              "      <td>5000000</td>\n",
              "      <td>510,000.0000</td>\n",
              "      <td>120,250.0000</td>\n",
              "      <td>1,500,000.0000</td>\n",
              "      <td>175</td>\n",
              "    </tr>\n",
              "    <tr>\n",
              "      <th>480</th>\n",
              "      <td>Lessors of Miniwarehouses and Self-Storage Units</td>\n",
              "      <td>531130</td>\n",
              "      <td>1,258,816.7249</td>\n",
              "      <td>1,324,345.7407</td>\n",
              "      <td>5000</td>\n",
              "      <td>5000000</td>\n",
              "      <td>758,650.0000</td>\n",
              "      <td>316,425.0000</td>\n",
              "      <td>1,725,000.0000</td>\n",
              "      <td>1214</td>\n",
              "    </tr>\n",
              "    <tr>\n",
              "      <th>418</th>\n",
              "      <td>Hotels (except Casino Hotels) and Motels</td>\n",
              "      <td>721110</td>\n",
              "      <td>1,434,118.8210</td>\n",
              "      <td>1,233,655.8382</td>\n",
              "      <td>2000</td>\n",
              "      <td>5000000</td>\n",
              "      <td>1,134,800.0000</td>\n",
              "      <td>500,000.0000</td>\n",
              "      <td>2,000,000.0000</td>\n",
              "      <td>15681</td>\n",
              "    </tr>\n",
              "  </tbody>\n",
              "</table>\n",
              "<p>798 rows × 10 columns</p>\n",
              "</div>"
            ],
            "text/plain": [
              "                                                                   desc  \\\n",
              "                                                                          \n",
              "117                                               Blood and Organ Banks   \n",
              "662  Other Direct Insurance (except Life, Health, and Medical) Carriers   \n",
              "348                                   Footwear and Leather Goods Repair   \n",
              "82                                              Apprenticeship Training   \n",
              "564                                          Musical Groups and Artists   \n",
              "..                                                                  ...   \n",
              "834                                Refrigerated Warehousing and Storage   \n",
              "89                           Assisted Living Facilities for the Elderly   \n",
              "387                           Grain and Field Bean Merchant Wholesalers   \n",
              "480                    Lessors of Miniwarehouses and Self-Storage Units   \n",
              "418                            Hotels (except Casino Hotels) and Motels   \n",
              "\n",
              "       code  GrossApproval                                               \\\n",
              "                      mean            std   min      max         median   \n",
              "117  621991    34,400.0000    93,216.4088  5000   519000     5,000.0000   \n",
              "662  524128    55,988.0415   284,596.6007  5000  5000000    20,000.0000   \n",
              "348  811430    63,354.2601   168,807.8140   500  2035000    26,000.0000   \n",
              "82   611513    63,380.6707   187,124.8777  5000  1250000    10,000.0000   \n",
              "564  711130    73,902.2857   190,123.3163  3000  1625400    25,000.0000   \n",
              "..      ...            ...            ...   ...      ...            ...   \n",
              "834  493120   846,945.3623 1,112,450.5131  1000  4918500   420,050.0000   \n",
              "89   623312   856,064.4105 1,022,772.0658  5000  5000000   520,000.0000   \n",
              "387  424510   922,709.8971 1,153,501.8282  4800  5000000   510,000.0000   \n",
              "480  531130 1,258,816.7249 1,324,345.7407  5000  5000000   758,650.0000   \n",
              "418  721110 1,434,118.8210 1,233,655.8382  2000  5000000 1,134,800.0000   \n",
              "\n",
              "                                         \n",
              "    percentile_25  percentile_75  count  \n",
              "117    5,000.0000    10,000.0000     90  \n",
              "662    5,000.0000    35,000.0000    337  \n",
              "348   12,750.0000    60,050.0000    223  \n",
              "82     5,000.0000    50,000.0000     82  \n",
              "564   10,000.0000    50,000.0000    350  \n",
              "..            ...            ...    ...  \n",
              "834  100,000.0000 1,074,787.5000    138  \n",
              "89   200,000.0000 1,027,500.0000   1732  \n",
              "387  120,250.0000 1,500,000.0000    175  \n",
              "480  316,425.0000 1,725,000.0000   1214  \n",
              "418  500,000.0000 2,000,000.0000  15681  \n",
              "\n",
              "[798 rows x 10 columns]"
            ]
          },
          "metadata": {
            "tags": []
          },
          "execution_count": 102
        }
      ]
    },
    {
      "cell_type": "code",
      "metadata": {
        "id": "-LwScf4QKC9J",
        "colab_type": "code",
        "colab": {}
      },
      "source": [
        "# Save to CSV\n",
        "amount_group[amount_group[('GrossApproval','count')] > 50].sort_values([('GrossApproval','mean')]).to_csv('amount_summ_by_group.csv')"
      ],
      "execution_count": 0,
      "outputs": []
    },
    {
      "cell_type": "markdown",
      "metadata": {
        "id": "sbTRMCtRKC9M",
        "colab_type": "text"
      },
      "source": [
        "## Volume - Lender"
      ]
    },
    {
      "cell_type": "code",
      "metadata": {
        "id": "lnEpd2M5KC9N",
        "colab_type": "code",
        "colab": {}
      },
      "source": [
        "amount_df = lend_df[~lend_df[\"GrossApproval\"].isnull()][['GrossApproval', 'BankName']]"
      ],
      "execution_count": 0,
      "outputs": []
    },
    {
      "cell_type": "code",
      "metadata": {
        "id": "FLjptL8rKC9R",
        "colab_type": "code",
        "colab": {}
      },
      "source": [
        "amount_group = amount_df[['BankName', 'GrossApproval']].groupby(['BankName'], as_index=False).agg(\n",
        "                      {'GrossApproval':['mean','std', 'min', 'max', 'median', percentile(0.25), percentile(0.75),'count']})"
      ],
      "execution_count": 0,
      "outputs": []
    },
    {
      "cell_type": "code",
      "metadata": {
        "scrolled": true,
        "id": "P6MWeBB5KC9T",
        "colab_type": "code",
        "outputId": "35b635c0-fa32-495d-909f-1aaeb618315c",
        "colab": {}
      },
      "source": [
        "amount_group[amount_group[('GrossApproval','count')] > 50].sort_values([('GrossApproval','mean')])"
      ],
      "execution_count": 0,
      "outputs": [
        {
          "output_type": "execute_result",
          "data": {
            "text/html": [
              "<div>\n",
              "<style scoped>\n",
              "    .dataframe tbody tr th:only-of-type {\n",
              "        vertical-align: middle;\n",
              "    }\n",
              "\n",
              "    .dataframe tbody tr th {\n",
              "        vertical-align: top;\n",
              "    }\n",
              "\n",
              "    .dataframe thead tr th {\n",
              "        text-align: left;\n",
              "    }\n",
              "</style>\n",
              "<table border=\"1\" class=\"dataframe\">\n",
              "  <thead>\n",
              "    <tr>\n",
              "      <th></th>\n",
              "      <th>BankName</th>\n",
              "      <th colspan=\"8\" halign=\"left\">GrossApproval</th>\n",
              "    </tr>\n",
              "    <tr>\n",
              "      <th></th>\n",
              "      <th></th>\n",
              "      <th>mean</th>\n",
              "      <th>std</th>\n",
              "      <th>min</th>\n",
              "      <th>max</th>\n",
              "      <th>median</th>\n",
              "      <th>percentile_25</th>\n",
              "      <th>percentile_75</th>\n",
              "      <th>count</th>\n",
              "    </tr>\n",
              "  </thead>\n",
              "  <tbody>\n",
              "    <tr>\n",
              "      <th>177</th>\n",
              "      <td>American Express National Bank</td>\n",
              "      <td>19,810.2679</td>\n",
              "      <td>6,033.2362</td>\n",
              "      <td>10000</td>\n",
              "      <td>50000</td>\n",
              "      <td>20,000.0000</td>\n",
              "      <td>15,000.0000</td>\n",
              "      <td>25,000.0000</td>\n",
              "      <td>224</td>\n",
              "    </tr>\n",
              "    <tr>\n",
              "      <th>4774</th>\n",
              "      <td>VelocitySBA, LLC</td>\n",
              "      <td>20,078.2332</td>\n",
              "      <td>135,938.9459</td>\n",
              "      <td>5000</td>\n",
              "      <td>4119500</td>\n",
              "      <td>10,000.0000</td>\n",
              "      <td>5,000.0000</td>\n",
              "      <td>12,500.0000</td>\n",
              "      <td>10833</td>\n",
              "    </tr>\n",
              "    <tr>\n",
              "      <th>667</th>\n",
              "      <td>Brooklyn Cooperative FCU</td>\n",
              "      <td>26,302.7138</td>\n",
              "      <td>23,768.5794</td>\n",
              "      <td>1500</td>\n",
              "      <td>200000</td>\n",
              "      <td>15,677.0000</td>\n",
              "      <td>10,000.0000</td>\n",
              "      <td>38,125.0000</td>\n",
              "      <td>276</td>\n",
              "    </tr>\n",
              "    <tr>\n",
              "      <th>2296</th>\n",
              "      <td>HawaiiUSA FCU</td>\n",
              "      <td>32,231.4570</td>\n",
              "      <td>31,929.9343</td>\n",
              "      <td>4900</td>\n",
              "      <td>200000</td>\n",
              "      <td>21,000.0000</td>\n",
              "      <td>12,000.0000</td>\n",
              "      <td>42,075.0000</td>\n",
              "      <td>302</td>\n",
              "    </tr>\n",
              "    <tr>\n",
              "      <th>4005</th>\n",
              "      <td>Teachers FCU</td>\n",
              "      <td>33,269.0909</td>\n",
              "      <td>37,404.0841</td>\n",
              "      <td>5000</td>\n",
              "      <td>250000</td>\n",
              "      <td>25,000.0000</td>\n",
              "      <td>15,000.0000</td>\n",
              "      <td>40,000.0000</td>\n",
              "      <td>55</td>\n",
              "    </tr>\n",
              "    <tr>\n",
              "      <th>...</th>\n",
              "      <td>...</td>\n",
              "      <td>...</td>\n",
              "      <td>...</td>\n",
              "      <td>...</td>\n",
              "      <td>...</td>\n",
              "      <td>...</td>\n",
              "      <td>...</td>\n",
              "      <td>...</td>\n",
              "      <td>...</td>\n",
              "    </tr>\n",
              "    <tr>\n",
              "      <th>4709</th>\n",
              "      <td>United Pacific Bank</td>\n",
              "      <td>1,598,706.5714</td>\n",
              "      <td>1,456,747.9634</td>\n",
              "      <td>50000</td>\n",
              "      <td>5000000</td>\n",
              "      <td>1,000,000.0000</td>\n",
              "      <td>471,250.0000</td>\n",
              "      <td>2,270,000.0000</td>\n",
              "      <td>84</td>\n",
              "    </tr>\n",
              "    <tr>\n",
              "      <th>3977</th>\n",
              "      <td>T Bank, National Association</td>\n",
              "      <td>1,674,884.9515</td>\n",
              "      <td>1,360,254.1242</td>\n",
              "      <td>150000</td>\n",
              "      <td>5000000</td>\n",
              "      <td>1,090,000.0000</td>\n",
              "      <td>562,700.0000</td>\n",
              "      <td>2,519,500.0000</td>\n",
              "      <td>206</td>\n",
              "    </tr>\n",
              "    <tr>\n",
              "      <th>3614</th>\n",
              "      <td>Savoy Bank</td>\n",
              "      <td>1,774,671.5278</td>\n",
              "      <td>1,453,659.7959</td>\n",
              "      <td>50000</td>\n",
              "      <td>5000000</td>\n",
              "      <td>1,307,500.0000</td>\n",
              "      <td>548,750.0000</td>\n",
              "      <td>2,877,750.0000</td>\n",
              "      <td>144</td>\n",
              "    </tr>\n",
              "    <tr>\n",
              "      <th>429</th>\n",
              "      <td>Bank of George</td>\n",
              "      <td>2,028,105.0459</td>\n",
              "      <td>1,203,697.7753</td>\n",
              "      <td>75000</td>\n",
              "      <td>5000000</td>\n",
              "      <td>1,852,500.0000</td>\n",
              "      <td>1,043,750.0000</td>\n",
              "      <td>2,898,000.0000</td>\n",
              "      <td>218</td>\n",
              "    </tr>\n",
              "    <tr>\n",
              "      <th>621</th>\n",
              "      <td>BizCapital BIDCO I, LLC</td>\n",
              "      <td>2,228,110.6900</td>\n",
              "      <td>1,250,950.0183</td>\n",
              "      <td>200000</td>\n",
              "      <td>5000000</td>\n",
              "      <td>2,000,000.0000</td>\n",
              "      <td>1,400,000.0000</td>\n",
              "      <td>2,884,250.0000</td>\n",
              "      <td>100</td>\n",
              "    </tr>\n",
              "  </tbody>\n",
              "</table>\n",
              "<p>1286 rows × 9 columns</p>\n",
              "</div>"
            ],
            "text/plain": [
              "                            BankName  GrossApproval                         \\\n",
              "                                               mean            std     min   \n",
              "177   American Express National Bank    19,810.2679     6,033.2362   10000   \n",
              "4774                VelocitySBA, LLC    20,078.2332   135,938.9459    5000   \n",
              "667         Brooklyn Cooperative FCU    26,302.7138    23,768.5794    1500   \n",
              "2296                   HawaiiUSA FCU    32,231.4570    31,929.9343    4900   \n",
              "4005                    Teachers FCU    33,269.0909    37,404.0841    5000   \n",
              "...                              ...            ...            ...     ...   \n",
              "4709             United Pacific Bank 1,598,706.5714 1,456,747.9634   50000   \n",
              "3977    T Bank, National Association 1,674,884.9515 1,360,254.1242  150000   \n",
              "3614                      Savoy Bank 1,774,671.5278 1,453,659.7959   50000   \n",
              "429                   Bank of George 2,028,105.0459 1,203,697.7753   75000   \n",
              "621          BizCapital BIDCO I, LLC 2,228,110.6900 1,250,950.0183  200000   \n",
              "\n",
              "                                                                   \n",
              "          max         median  percentile_25  percentile_75  count  \n",
              "177     50000    20,000.0000    15,000.0000    25,000.0000    224  \n",
              "4774  4119500    10,000.0000     5,000.0000    12,500.0000  10833  \n",
              "667    200000    15,677.0000    10,000.0000    38,125.0000    276  \n",
              "2296   200000    21,000.0000    12,000.0000    42,075.0000    302  \n",
              "4005   250000    25,000.0000    15,000.0000    40,000.0000     55  \n",
              "...       ...            ...            ...            ...    ...  \n",
              "4709  5000000 1,000,000.0000   471,250.0000 2,270,000.0000     84  \n",
              "3977  5000000 1,090,000.0000   562,700.0000 2,519,500.0000    206  \n",
              "3614  5000000 1,307,500.0000   548,750.0000 2,877,750.0000    144  \n",
              "429   5000000 1,852,500.0000 1,043,750.0000 2,898,000.0000    218  \n",
              "621   5000000 2,000,000.0000 1,400,000.0000 2,884,250.0000    100  \n",
              "\n",
              "[1286 rows x 9 columns]"
            ]
          },
          "metadata": {
            "tags": []
          },
          "execution_count": 63
        }
      ]
    },
    {
      "cell_type": "code",
      "metadata": {
        "id": "yCLyOw-FKC9V",
        "colab_type": "code",
        "colab": {}
      },
      "source": [
        "# Save to CSV\n",
        "amount_group[amount_group[('GrossApproval','count')] > 50].sort_values([('GrossApproval','mean')]).to_csv('amount_summ_by_lender.csv')"
      ],
      "execution_count": 0,
      "outputs": []
    },
    {
      "cell_type": "markdown",
      "metadata": {
        "id": "BUGXXh1lKC9X",
        "colab_type": "text"
      },
      "source": [
        "## Volume - Term"
      ]
    },
    {
      "cell_type": "code",
      "metadata": {
        "id": "h_KesSahKC9X",
        "colab_type": "code",
        "colab": {}
      },
      "source": [
        "amount_df = lend_df[~lend_df[\"GrossApproval\"].isnull()][['GrossApproval', 'TermInMonths']]"
      ],
      "execution_count": 0,
      "outputs": []
    },
    {
      "cell_type": "code",
      "metadata": {
        "id": "oLb3Pe8gKC9Z",
        "colab_type": "code",
        "colab": {}
      },
      "source": [
        "amount_group = amount_df[['TermInMonths', 'GrossApproval']].groupby(['TermInMonths'], as_index=False).agg(\n",
        "                      {'GrossApproval':['mean','std', 'min', 'max', 'median', percentile(0.25), percentile(0.75),'count']})"
      ],
      "execution_count": 0,
      "outputs": []
    },
    {
      "cell_type": "code",
      "metadata": {
        "id": "HPxbMcz7KC9b",
        "colab_type": "code",
        "outputId": "7ef463d6-4ac5-45aa-8ff9-99610cc89ba6",
        "colab": {}
      },
      "source": [
        "amount_group.sort_values([('GrossApproval','mean')])"
      ],
      "execution_count": 0,
      "outputs": [
        {
          "output_type": "execute_result",
          "data": {
            "text/html": [
              "<div>\n",
              "<style scoped>\n",
              "    .dataframe tbody tr th:only-of-type {\n",
              "        vertical-align: middle;\n",
              "    }\n",
              "\n",
              "    .dataframe tbody tr th {\n",
              "        vertical-align: top;\n",
              "    }\n",
              "\n",
              "    .dataframe thead tr th {\n",
              "        text-align: left;\n",
              "    }\n",
              "</style>\n",
              "<table border=\"1\" class=\"dataframe\">\n",
              "  <thead>\n",
              "    <tr>\n",
              "      <th></th>\n",
              "      <th>TermInMonths</th>\n",
              "      <th colspan=\"8\" halign=\"left\">GrossApproval</th>\n",
              "    </tr>\n",
              "    <tr>\n",
              "      <th></th>\n",
              "      <th></th>\n",
              "      <th>mean</th>\n",
              "      <th>std</th>\n",
              "      <th>min</th>\n",
              "      <th>max</th>\n",
              "      <th>median</th>\n",
              "      <th>percentile_25</th>\n",
              "      <th>percentile_75</th>\n",
              "      <th>count</th>\n",
              "    </tr>\n",
              "  </thead>\n",
              "  <tbody>\n",
              "    <tr>\n",
              "      <th>341</th>\n",
              "      <td>346</td>\n",
              "      <td>20,000.0000</td>\n",
              "      <td>nan</td>\n",
              "      <td>20000</td>\n",
              "      <td>20000</td>\n",
              "      <td>20,000.0000</td>\n",
              "      <td>20,000.0000</td>\n",
              "      <td>20,000.0000</td>\n",
              "      <td>1</td>\n",
              "    </tr>\n",
              "    <tr>\n",
              "      <th>352</th>\n",
              "      <td>364</td>\n",
              "      <td>35,000.0000</td>\n",
              "      <td>nan</td>\n",
              "      <td>35000</td>\n",
              "      <td>35000</td>\n",
              "      <td>35,000.0000</td>\n",
              "      <td>35,000.0000</td>\n",
              "      <td>35,000.0000</td>\n",
              "      <td>1</td>\n",
              "    </tr>\n",
              "    <tr>\n",
              "      <th>344</th>\n",
              "      <td>349</td>\n",
              "      <td>35,000.0000</td>\n",
              "      <td>nan</td>\n",
              "      <td>35000</td>\n",
              "      <td>35000</td>\n",
              "      <td>35,000.0000</td>\n",
              "      <td>35,000.0000</td>\n",
              "      <td>35,000.0000</td>\n",
              "      <td>1</td>\n",
              "    </tr>\n",
              "    <tr>\n",
              "      <th>383</th>\n",
              "      <td>847</td>\n",
              "      <td>46,000.0000</td>\n",
              "      <td>nan</td>\n",
              "      <td>46000</td>\n",
              "      <td>46000</td>\n",
              "      <td>46,000.0000</td>\n",
              "      <td>46,000.0000</td>\n",
              "      <td>46,000.0000</td>\n",
              "      <td>1</td>\n",
              "    </tr>\n",
              "    <tr>\n",
              "      <th>373</th>\n",
              "      <td>430</td>\n",
              "      <td>46,000.0000</td>\n",
              "      <td>nan</td>\n",
              "      <td>46000</td>\n",
              "      <td>46000</td>\n",
              "      <td>46,000.0000</td>\n",
              "      <td>46,000.0000</td>\n",
              "      <td>46,000.0000</td>\n",
              "      <td>1</td>\n",
              "    </tr>\n",
              "    <tr>\n",
              "      <th>...</th>\n",
              "      <td>...</td>\n",
              "      <td>...</td>\n",
              "      <td>...</td>\n",
              "      <td>...</td>\n",
              "      <td>...</td>\n",
              "      <td>...</td>\n",
              "      <td>...</td>\n",
              "      <td>...</td>\n",
              "      <td>...</td>\n",
              "    </tr>\n",
              "    <tr>\n",
              "      <th>321</th>\n",
              "      <td>321</td>\n",
              "      <td>2,259,157.8947</td>\n",
              "      <td>1,625,432.2971</td>\n",
              "      <td>100000</td>\n",
              "      <td>4800000</td>\n",
              "      <td>2,000,000.0000</td>\n",
              "      <td>692,500.0000</td>\n",
              "      <td>3,738,500.0000</td>\n",
              "      <td>19</td>\n",
              "    </tr>\n",
              "    <tr>\n",
              "      <th>315</th>\n",
              "      <td>315</td>\n",
              "      <td>2,430,665.5833</td>\n",
              "      <td>1,385,330.7147</td>\n",
              "      <td>35000</td>\n",
              "      <td>5000000</td>\n",
              "      <td>2,227,500.0000</td>\n",
              "      <td>1,227,750.0000</td>\n",
              "      <td>3,314,400.0000</td>\n",
              "      <td>84</td>\n",
              "    </tr>\n",
              "    <tr>\n",
              "      <th>318</th>\n",
              "      <td>318</td>\n",
              "      <td>2,588,893.4453</td>\n",
              "      <td>1,483,984.3302</td>\n",
              "      <td>136000</td>\n",
              "      <td>5000000</td>\n",
              "      <td>2,367,500.0000</td>\n",
              "      <td>1,377,475.0000</td>\n",
              "      <td>3,820,500.0000</td>\n",
              "      <td>128</td>\n",
              "    </tr>\n",
              "    <tr>\n",
              "      <th>324</th>\n",
              "      <td>324</td>\n",
              "      <td>2,613,396.9811</td>\n",
              "      <td>1,733,922.6989</td>\n",
              "      <td>94000</td>\n",
              "      <td>5000000</td>\n",
              "      <td>2,444,000.0000</td>\n",
              "      <td>1,344,400.0000</td>\n",
              "      <td>4,250,000.0000</td>\n",
              "      <td>53</td>\n",
              "    </tr>\n",
              "    <tr>\n",
              "      <th>347</th>\n",
              "      <td>352</td>\n",
              "      <td>3,375,000.0000</td>\n",
              "      <td>nan</td>\n",
              "      <td>3375000</td>\n",
              "      <td>3375000</td>\n",
              "      <td>3,375,000.0000</td>\n",
              "      <td>3,375,000.0000</td>\n",
              "      <td>3,375,000.0000</td>\n",
              "      <td>1</td>\n",
              "    </tr>\n",
              "  </tbody>\n",
              "</table>\n",
              "<p>384 rows × 9 columns</p>\n",
              "</div>"
            ],
            "text/plain": [
              "    TermInMonths  GrossApproval                                   \\\n",
              "                           mean            std      min      max   \n",
              "341          346    20,000.0000            nan    20000    20000   \n",
              "352          364    35,000.0000            nan    35000    35000   \n",
              "344          349    35,000.0000            nan    35000    35000   \n",
              "383          847    46,000.0000            nan    46000    46000   \n",
              "373          430    46,000.0000            nan    46000    46000   \n",
              "..           ...            ...            ...      ...      ...   \n",
              "321          321 2,259,157.8947 1,625,432.2971   100000  4800000   \n",
              "315          315 2,430,665.5833 1,385,330.7147    35000  5000000   \n",
              "318          318 2,588,893.4453 1,483,984.3302   136000  5000000   \n",
              "324          324 2,613,396.9811 1,733,922.6989    94000  5000000   \n",
              "347          352 3,375,000.0000            nan  3375000  3375000   \n",
              "\n",
              "                                                        \n",
              "            median  percentile_25  percentile_75 count  \n",
              "341    20,000.0000    20,000.0000    20,000.0000     1  \n",
              "352    35,000.0000    35,000.0000    35,000.0000     1  \n",
              "344    35,000.0000    35,000.0000    35,000.0000     1  \n",
              "383    46,000.0000    46,000.0000    46,000.0000     1  \n",
              "373    46,000.0000    46,000.0000    46,000.0000     1  \n",
              "..             ...            ...            ...   ...  \n",
              "321 2,000,000.0000   692,500.0000 3,738,500.0000    19  \n",
              "315 2,227,500.0000 1,227,750.0000 3,314,400.0000    84  \n",
              "318 2,367,500.0000 1,377,475.0000 3,820,500.0000   128  \n",
              "324 2,444,000.0000 1,344,400.0000 4,250,000.0000    53  \n",
              "347 3,375,000.0000 3,375,000.0000 3,375,000.0000     1  \n",
              "\n",
              "[384 rows x 9 columns]"
            ]
          },
          "metadata": {
            "tags": []
          },
          "execution_count": 85
        }
      ]
    },
    {
      "cell_type": "code",
      "metadata": {
        "id": "QhKSbJx4KC9g",
        "colab_type": "code",
        "colab": {}
      },
      "source": [
        "# Save to CSV\n",
        "amount_group.sort_values([('GrossApproval','mean')]).to_csv('amount_summ_by_term.csv')"
      ],
      "execution_count": 0,
      "outputs": []
    },
    {
      "cell_type": "code",
      "metadata": {
        "id": "72Dh9b98KC9j",
        "colab_type": "code",
        "outputId": "382baca0-8f78-4e00-d73e-3857463a3228",
        "colab": {}
      },
      "source": [
        "# Correlation amount with length of loan\n",
        "lend_df['GrossApproval'].corr(lend_df['TermInMonths'])"
      ],
      "execution_count": 0,
      "outputs": [
        {
          "output_type": "execute_result",
          "data": {
            "text/plain": [
              "0.5063744579165977"
            ]
          },
          "metadata": {
            "tags": []
          },
          "execution_count": 77
        }
      ]
    },
    {
      "cell_type": "markdown",
      "metadata": {
        "id": "viNZ8d3mKC9r",
        "colab_type": "text"
      },
      "source": [
        "#### Volume - ANOVA Testing"
      ]
    },
    {
      "cell_type": "code",
      "metadata": {
        "id": "7xLz780uKC9r",
        "colab_type": "code",
        "colab": {}
      },
      "source": [
        "from statsmodels.formula.api import ols"
      ],
      "execution_count": 0,
      "outputs": []
    },
    {
      "cell_type": "code",
      "metadata": {
        "id": "327W8Jt1KC9u",
        "colab_type": "code",
        "colab": {}
      },
      "source": [
        "results = ols('GrossApproval ~ C(desc)', data=amount_df).fit()"
      ],
      "execution_count": 0,
      "outputs": []
    },
    {
      "cell_type": "code",
      "metadata": {
        "id": "F5qP6JtJKC9z",
        "colab_type": "code",
        "colab": {}
      },
      "source": [
        "results.summary()\n",
        "# TODO"
      ],
      "execution_count": 0,
      "outputs": []
    },
    {
      "cell_type": "markdown",
      "metadata": {
        "id": "B2cv7JLOKC90",
        "colab_type": "text"
      },
      "source": [
        "# 3. How to determine if company is still around"
      ]
    },
    {
      "cell_type": "code",
      "metadata": {
        "id": "JU9a1S_oKC91",
        "colab_type": "code",
        "colab": {}
      },
      "source": [
        "find_active = lend_df[['BorrName', 'BorrStreet', 'BorrCity', 'BorrState', 'BorrZip', 'ApprovalFiscalYear', 'LoanStatus', 'GrossChargeOffAmount', 'JobsSupported']].sort_values('ApprovalFiscalYear')"
      ],
      "execution_count": 0,
      "outputs": []
    },
    {
      "cell_type": "code",
      "metadata": {
        "id": "WI-e157VKC93",
        "colab_type": "code",
        "colab": {}
      },
      "source": [
        "find_active.to_csv(\"business_identities_by_year.csv\")"
      ],
      "execution_count": 0,
      "outputs": []
    },
    {
      "cell_type": "code",
      "metadata": {
        "id": "WPigcPSZKC97",
        "colab_type": "code",
        "colab": {}
      },
      "source": [
        "# TODO"
      ],
      "execution_count": 0,
      "outputs": []
    }
  ]
}